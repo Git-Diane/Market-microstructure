{
 "cells": [
  {
   "cell_type": "markdown",
   "metadata": {
    "colab_type": "text",
    "id": "yukjUkrZLpJi"
   },
   "source": [
    "##__Projet : Microstructure des prix financiers__"
   ]
  },
  {
   "cell_type": "markdown",
   "metadata": {
    "colab_type": "text",
    "id": "i7GQcatFGuoF"
   },
   "source": [
    "## Modal SNA 2019-2020"
   ]
  },
  {
   "cell_type": "markdown",
   "metadata": {
    "colab_type": "text",
    "id": "Tnac77p1Ls1l"
   },
   "source": [
    "### Peng-Wei Chen & Diane Béranger"
   ]
  },
  {
   "cell_type": "code",
   "execution_count": 0,
   "metadata": {
    "colab": {},
    "colab_type": "code",
    "id": "ypxZRueCGYm2"
   },
   "outputs": [],
   "source": [
    "import numpy as np\n",
    "import matplotlib.pyplot as plt\n",
    "import scipy.stats as sps"
   ]
  },
  {
   "cell_type": "markdown",
   "metadata": {
    "colab_type": "text",
    "id": "5PkrjfsvMFhm"
   },
   "source": [
    "## __Question 1__"
   ]
  },
  {
   "cell_type": "code",
   "execution_count": 0,
   "metadata": {
    "colab": {},
    "colab_type": "code",
    "id": "cYwv1sw_U9FK"
   },
   "outputs": [],
   "source": [
    "#On définit nu, la loi des incréments\n",
    "\n",
    "value_1 = np.array([-1, 1])\n",
    "value_2 = np.array([-3, -2, -2, -1, -1, -1, 1, 1, 1, 2, 2, 3])\n",
    "\n",
    "saut_1 = lambda x : value_1[np.random.randint(low=2, size=x)] #correspond à m=1\n",
    "saut_2 = lambda x : value_2[np.random.randint(low=12, size=x)] #correspond à m=3\n",
    "\n",
    "P0 = 35\n",
    "T = 4*60*60 #conversion en secondes\n",
    "lamb = 1/300"
   ]
  },
  {
   "cell_type": "markdown",
   "metadata": {
    "colab_type": "text",
    "id": "M7EYCUZUHf40"
   },
   "source": [
    "### Simulation de trajectoire"
   ]
  },
  {
   "cell_type": "code",
   "execution_count": 0,
   "metadata": {
    "colab": {
     "base_uri": "https://localhost:8080/",
     "height": 298
    },
    "colab_type": "code",
    "id": "oPar6ORKHfYw",
    "outputId": "31241f31-9008-43c1-b35c-0c7dda7d9aaa"
   },
   "outputs": [
    {
     "data": {
      "text/plain": [
       "<matplotlib.legend.Legend at 0x7f87533fce48>"
      ]
     },
     "execution_count": 4,
     "metadata": {
      "tags": []
     },
     "output_type": "execute_result"
    },
    {
     "data": {
      "image/png": "[encoded data removed]",
      "text/plain": [
       "<Figure size 432x288 with 1 Axes>"
      ]
     },
     "metadata": {
      "needs_background": "light",
      "tags": []
     },
     "output_type": "display_data"
    }
   ],
   "source": [
    "#Simulation des temps entre les sauts plutôt que directement N puis uniforme (évite d'avoir à trier en NlogN les temps des sauts)\n",
    "\n",
    "def liste_sauts(lamb,T,P0,saut):\n",
    "    liste_t= np.array([0,np.random.exponential(1/lamb)])\n",
    "    liste_increments= np.array([0])\n",
    "    while liste_t[-1]<T:\n",
    "        liste_increments = np.append(liste_increments,saut(1))\n",
    "        liste_t=np.append(liste_t,liste_t[-1]+np.random.exponential(1/lamb))\n",
    "    liste_t[-1]= T\n",
    "    liste_increments=np.append(liste_increments,0)\n",
    "    liste_prix = P0 + np.cumsum(liste_increments)\n",
    "\n",
    "    return liste_t,liste_prix\n",
    "\n",
    "\n",
    "liste_t_1, liste_prix_1 = liste_sauts(lamb,T,P0,saut_1)\n",
    "plt.step(liste_t_1, liste_prix_1, where=\"post\", label=\"m=1\", linewidth=2.0)\n",
    "\n",
    "liste_t_2, liste_prix_2 = liste_sauts(lamb,T,P0,saut_2)\n",
    "plt.step(liste_t_2, liste_prix_2, where=\"post\", label=\"m=3\", linewidth=2.0)\n",
    "plt.title(\"Processus de Poisson composé d'intensité {:04.5f} à horizon fixe T={} s\".format(lamb,T), fontsize=12)\n",
    "plt.legend(loc=\"best\")\n"
   ]
  },
  {
   "cell_type": "markdown",
   "metadata": {
    "colab_type": "text",
    "id": "6cFQwg1vMRYS"
   },
   "source": [
    "### Question 1.1 : Probabilité de prix négatif"
   ]
  },
  {
   "cell_type": "markdown",
   "metadata": {
    "colab_type": "text",
    "id": "WAUIiMaGCld9"
   },
   "source": [
    "#### Méthode 1 - Monte-Carlo naïf"
   ]
  },
  {
   "cell_type": "code",
   "execution_count": 0,
   "metadata": {
    "colab": {},
    "colab_type": "code",
    "id": "yol9ySn26iOw"
   },
   "outputs": [],
   "source": [
    "def liste_prix_sauts(lamb,T,P0,saut):\n",
    "    N = np.random.poisson(lamb*T) #le nombre de sauts suit une loi de Poisson de paramètre lambda*T\n",
    "    liste_increments = saut(N)\n",
    "    liste_prix = P0 + np.cumsum(liste_increments)\n",
    "\n",
    "    return liste_prix\n",
    "\n",
    "\n",
    "def MC_naif(M,lamb,T,P0,saut): \n",
    "    liste_bool_inf_0 = np.zeros(M) \n",
    "\n",
    "    for l in range(M):\n",
    "        liste_prix = liste_prix_sauts(lamb,T,P0,saut) #prix juste après les sauts\n",
    "        if np.min(liste_prix) <0:\n",
    "            liste_bool_inf_0[l] = 1\n",
    "\n",
    "    p_r = np.mean(liste_bool_inf_0)\n",
    "    return p_r\n"
   ]
  },
  {
   "cell_type": "code",
   "execution_count": 0,
   "metadata": {
    "colab": {
     "base_uri": "https://localhost:8080/",
     "height": 34
    },
    "colab_type": "code",
    "id": "stpCfgJpWf13",
    "outputId": "e4089cad-c0db-47f8-e6a1-4375c5bd4997"
   },
   "outputs": [
    {
     "name": "stdout",
     "output_type": "stream",
     "text": [
      "Estimation de la probabilité de ruine pour m=3 par la méthode de Monte-Carlo : 0.004362+/-0.000129\n"
     ]
    }
   ],
   "source": [
    "M = int(1e6)\n",
    "\n",
    "p_r = MC_naif(M,lamb,T,P0,saut_2)\n",
    "\n",
    "R_IC = 1.96*np.sqrt(p_r*(1-p_r))/np.sqrt(M) #rayon de l'intervalle de confiance\n",
    "print(\"Estimation de la probabilité de ruine pour m=3 par la méthode de Monte-Carlo : {:07.6f}+/-{:07.6f}\".format(p_r,R_IC))"
   ]
  },
  {
   "cell_type": "markdown",
   "metadata": {
    "colab_type": "text",
    "id": "cpfRGRyBCsmm"
   },
   "source": [
    "#### Méthode 1-bis : Monte-Carlo optimisé"
   ]
  },
  {
   "cell_type": "code",
   "execution_count": 0,
   "metadata": {
    "colab": {},
    "colab_type": "code",
    "id": "-B_Wm5ADVERW"
   },
   "outputs": [],
   "source": [
    "## Monte-Carlo Naif avec numba\n",
    "from numba import jit\n",
    "\n",
    "@jit(nopython=True)\n",
    "def inf_echantillon(N, J, P0): # Function is compiled to machine code when called the first time\n",
    "  ruines = 0\n",
    "  for i in range(len(N) - 1):\n",
    "    somme = P0\n",
    "    ruine = 0\n",
    "    for j in range(N[i], N[i + 1]):\n",
    "      somme += J[j]\n",
    "      if somme < 0:\n",
    "        ruine = 1\n",
    "        break\n",
    "    ruines += ruine\n",
    "  return ruines\n",
    "\n",
    "def trajectoire(P0, T, lamb, saut, size):\n",
    "  if size > int(1e7):\n",
    "    sizes = size\n",
    "    size = int(1e7)\n",
    "    proba = 0\n",
    "    for i in range(sizes // size):\n",
    "      N = np.random.poisson(lam=lamb * T, size=size + 1)\n",
    "      N[0] = 0\n",
    "      N = N.cumsum()                    # La valeur N[i] - N[i - 1] est égale à Ni pour le i-ième échantillon\n",
    "                                        # Donc la somme des sauts entre indice N[i] et N[i + 1] - 1 suit la loi voulue\n",
    "      J = saut(N[-1] + 1)\n",
    "      res = inf_echantillon(N, J, P0)\n",
    "      proba += res\n",
    "    proba /= sizes\n",
    "    return proba\n",
    "  else:\n",
    "    N = np.random.poisson(lam=lamb * T, size=size + 1)\n",
    "    N[0] = 0\n",
    "    N = N.cumsum()                    # La valeur N[i] - N[i - 1] est égale à Ni pour le i-ième échantillon\n",
    "                                      # Donc la somme des sauts entre indice N[i] et N[i + 1] - 1 suit la loi voulue\n",
    "    J = saut(N[-1] + 1)\n",
    "    res = inf_echantillon(N, J, P0)\n",
    "    proba = res / size\n",
    "    return proba"
   ]
  },
  {
   "cell_type": "code",
   "execution_count": 0,
   "metadata": {
    "colab": {
     "base_uri": "https://localhost:8080/",
     "height": 34
    },
    "colab_type": "code",
    "id": "UPHXTQqDdlI6",
    "outputId": "d7fcd236-5d98-4e3b-8030-345f4f670def"
   },
   "outputs": [
    {
     "name": "stdout",
     "output_type": "stream",
     "text": [
      "Estimation de la probabilité de ruine pour m=1 par méthode de Monte-Carlo accélérée: 0.000000+/-0.000000\n"
     ]
    }
   ],
   "source": [
    "M = int(1e8)\n",
    "\n",
    "p_r = trajectoire(P0, T, lamb, saut_1, size=M)\n",
    "\n",
    "R_IC = 1.96*np.sqrt(p_r*(1-p_r))/np.sqrt(M) #rayon de l'intervalle de confiance\n",
    "\n",
    "print(\"Estimation de la probabilité de ruine pour m=1 par méthode de Monte-Carlo accélérée: {:07.6f}+/-{:07.6f}\".format(p_r,R_IC))\n"
   ]
  },
  {
   "cell_type": "code",
   "execution_count": 0,
   "metadata": {
    "colab": {
     "base_uri": "https://localhost:8080/",
     "height": 34
    },
    "colab_type": "code",
    "id": "HM9OQfBemLim",
    "outputId": "fb801a36-6d75-4b30-efd3-e2ee9567a76c"
   },
   "outputs": [
    {
     "name": "stdout",
     "output_type": "stream",
     "text": [
      "Estimation de la probabilité de ruine pour m=3 par méthode de Monte-Carlo accélérée: 0.004359+/-0.000041\n"
     ]
    }
   ],
   "source": [
    "\n",
    "M = int(1e7)\n",
    "\n",
    "p_r = trajectoire(P0, T, lamb, saut_2, size=M)\n",
    "\n",
    "R_IC = 1.96*np.sqrt(p_r*(1-p_r))/np.sqrt(M) #rayon de l'intervalle de confiance\n",
    "\n",
    "print(\"Estimation de la probabilité de ruine pour m=3 par méthode de Monte-Carlo accélérée: {:07.6f}+/-{:07.6f}\".format(p_r,R_IC))"
   ]
  },
  {
   "cell_type": "markdown",
   "metadata": {
    "colab_type": "text",
    "id": "6WJHNR1EC46g"
   },
   "source": [
    "#### Méthode 2 - Echantillonnage d'importance"
   ]
  },
  {
   "cell_type": "code",
   "execution_count": 0,
   "metadata": {
    "colab": {},
    "colab_type": "code",
    "id": "McP6bLNLRmDS"
   },
   "outputs": [],
   "source": [
    "from numba import jit\n",
    "\n",
    "@jit(nopython=True)# Function is compiled to machine code when called the first time\n",
    "def inf_echantillon_importance(N, J, P0, lambT, s, f_dic): \n",
    "  ruines = 0.\n",
    "  ruines_carre = 0.\n",
    "  for i in range(len(N) - 1):\n",
    "    somme = P0\n",
    "    ruine = 0.\n",
    "    ruine_carre = 0.\n",
    "    for j in range(N[i], N[i + 1]):\n",
    "      somme += J[j]\n",
    "      if somme < 0:\n",
    "        # Calculer L_T\n",
    "        X_T_f = np.sum(f_dic[ J[N[i]:N[i+1]] ])\n",
    "        L_T = np.exp(X_T_f - (s - 1) * lambT)\n",
    "        ruine = 1 / L_T\n",
    "        ruine_carre = 1 / L_T / L_T\n",
    "        break\n",
    "    ruines += ruine\n",
    "    ruines_carre += ruine_carre\n",
    "  return ruines, ruines_carre\n",
    "\n",
    "def trajectoire_importance(P0, T, lamb, m, size, f):\n",
    "  if m == 1:\n",
    "    value = np.array([-1, 1])\n",
    "    p = np.array([1/2, 1/2])\n",
    "  else:\n",
    "    value = np.array([-3, -2, -1, 1, 2, 3])\n",
    "    p = np.array([1 / 12, 1 / 6, 1 / 4, 1 / 4, 1 / 6, 1 / 12])\n",
    "    \n",
    "  # Nouvelle loi\n",
    "  s = np.sum(np.exp(f[value]) * p)\n",
    "  new_lamb = lamb * s\n",
    "  new_p = np.exp(f[value]) * p / s\n",
    "\n",
    "  N = np.random.poisson(lam=new_lamb * T, size=size + 1)\n",
    "  N[0] = 0\n",
    "  N = N.cumsum()                    # La valeur N[i] - N[i - 1] est égale à Ni pour le i-ième échantillon\n",
    "                                    # Donc la somme des sauts entre indice N[i] et N[i + 1] - 1 suit la loi voulue\n",
    "  \n",
    "  J = np.random.choice(value, size=N[-1] + 1, p=new_p)\n",
    "  ruines, ruines_carre = inf_echantillon_importance(N, J, P0, lamb * T, s, f)\n",
    "  proba = ruines / size\n",
    "  R_IC = 1.96 * np.sqrt(ruines_carre / size - proba * proba) / np.sqrt(size)\n",
    "  return proba, R_IC\n",
    "\n",
    "def meilleur_coeff(m, func, l_ = -100, r_ = 100):\n",
    "    \n",
    "    # f_dic : un map de p à f[p]. La forme étant [f[0], f[1], f[2], f[3], f[-3], f[-2], f[-1]] ou [f[0], f[1], f[-1]]\n",
    "    if m == 3:\n",
    "      value = np.array([-3, -2, -1, 1, 2, 3])\n",
    "      p = np.array([1 / 12, 1 / 6, 1 / 4, 1 / 4, 1 / 6, 1 / 12])\n",
    "      f_dic = np.array([0, 1, 2, 3, -3, -2, -1])\n",
    "    else:\n",
    "      value = np.array([-1, 1])\n",
    "      p = np.array([0.5, 0.5])\n",
    "      f_dic = np.array([0, 1, -1])\n",
    "\n",
    "    l = l_\n",
    "    f = func(f_dic, l)\n",
    "    print(\"Left bound for dichotomy : c =\", l, \"\\tE_c[P_T] = \", P0 / (lamb * T) + np.sum(value * np.exp(f[value]) * p))\n",
    "    r = r_\n",
    "    f = func(f_dic, r)\n",
    "    print(\"Right bound for dichotomy : c =\", r, \"\\tE_c[P_T] = \", P0 / (lamb * T) + np.sum(value * np.exp(f[value]) * p))\n",
    "    r_sign = np.sign(P0 / (lamb * T) + np.sum(value * np.exp(f[value]) * p))\n",
    "    while r - l > 1e-8:\n",
    "      c = (r + l) / 2\n",
    "      f = func(f_dic, c)\n",
    "      if np.sign(P0 / (lamb * T) + np.sum(value * np.exp(f[value]) * p)) == r_sign:\n",
    "        r = c\n",
    "      else:\n",
    "        l = c\n",
    "    print(\"Final value of c = \", c, \"\\tE_c[P_T] = \", P0 / (lamb * T) + np.sum(value * np.exp(f[value]) * p))\n",
    "    print()\n",
    "\n",
    "    p_r, R_IC = trajectoire_importance(P0, T, lamb, m, M, f)\n",
    "\n",
    "    print(\"Probabilité :\", p_r)\n",
    "    print(\"Rayon de l'intervalle de confiance :\", R_IC)\n",
    "    print(\"Intervalle de confiance : [{}, {}]\".format(p_r - R_IC, p_r + R_IC))"
   ]
  },
  {
   "cell_type": "code",
   "execution_count": 0,
   "metadata": {
    "colab": {
     "base_uri": "https://localhost:8080/",
     "height": 136
    },
    "colab_type": "code",
    "id": "-AVagKLmRtnW",
    "outputId": "3a8fb907-a053-43e9-bd1a-44166785604a"
   },
   "outputs": [
    {
     "name": "stdout",
     "output_type": "stream",
     "text": [
      "Left bound for dichotomy : c = -100 \tE_c[P_T] =  -4.8560659881031396e+129\n",
      "Right bound for dichotomy : c = 100 \tE_c[P_T] =  4.8560659881031396e+129\n",
      "Final value of c =  -0.20969067118130624 \tE_c[P_T] =  1.2587701991861877e-09\n",
      "\n",
      "Probabilité : 0.004329118847811886\n",
      "Rayon de l'intervalle de confiance : 7.143723429845608e-06\n",
      "Intervalle de confiance : [0.00432197512438204, 0.0043362625712417315]\n"
     ]
    }
   ],
   "source": [
    "m = 3\n",
    "M = int(1e7)\n",
    "\n",
    "# f(x) = c *  x \n",
    "meilleur_coeff(m, lambda x, c: x * c)\n",
    "#On approche c tel que l'espérance du prix final est nulle par dichotomie\n",
    "#puis on approche la probabilité de ruine "
   ]
  },
  {
   "cell_type": "code",
   "execution_count": 0,
   "metadata": {
    "colab": {
     "base_uri": "https://localhost:8080/",
     "height": 136
    },
    "colab_type": "code",
    "id": "5zCPgY4-0fv2",
    "outputId": "6319c995-1123-4314-cfa4-2e7fc2d74d71"
   },
   "outputs": [
    {
     "name": "stdout",
     "output_type": "stream",
     "text": [
      "Left bound for dichotomy : c = -100 \tE_c[P_T] =  -1.3440585709080678e+43\n",
      "Right bound for dichotomy : c = 100 \tE_c[P_T] =  1.3440585709080678e+43\n",
      "Final value of c =  -0.6763971236068755 \tE_c[P_T] =  2.81506495891648e-09\n",
      "\n",
      "Probabilité : 3.522720789166834e-07\n",
      "Rayon de l'intervalle de confiance : 9.1361269764381e-10\n",
      "Intervalle de confiance : [3.513584662190396e-07, 3.531856916143272e-07]\n"
     ]
    }
   ],
   "source": [
    "m = 1\n",
    "M = int(1e7)\n",
    "\n",
    "# f(x) = c *  x \n",
    "meilleur_coeff(m, lambda x, c: x * c)"
   ]
  },
  {
   "cell_type": "markdown",
   "metadata": {
    "colab_type": "text",
    "id": "DqiX05Q8C1El"
   },
   "source": [
    "#### Méthode 3 - Splitting et MCMC "
   ]
  },
  {
   "cell_type": "code",
   "execution_count": 0,
   "metadata": {
    "colab": {},
    "colab_type": "code",
    "id": "1hM_avjvHYIW"
   },
   "outputs": [],
   "source": [
    "#Version non optimisée\n",
    "\n",
    "def NiveauxSplitting(a,seuil,n,lamb,T,p,P0,saut):\n",
    "\n",
    "    \"\"\"\n",
    "    Fonction qui renvoie une estimation des niveaux\n",
    "    de splitting a_1, a_2, ..., a_k tels que P(Phi_T <= a_k | Phi_T <= a_{k-1}) = 0.1 = seuil\n",
    "    (où Phi_T : inf de P_t pour t dans [0;T])\n",
    "    Ces niveaux sont des quantiles d'une loi conditionnelle.\n",
    "    On utilise l'inversion de la fonction de repartition empirique de \n",
    "    cette loi afin d'estimer un quantile par\n",
    "    le quantile empirique.\n",
    "    On a a = a_k < a_{k-1} < ... < a_0= + infini (dans notre problème, a = 0)\n",
    "    La fonction renvoie quantiles = [a_1, ..., a_k]\n",
    "    \"\"\"\n",
    "    ## Estimation du premier niveau a_1: c'est le \n",
    "    ## quantile d'une loi non conditionnelle.\n",
    "    ## On l'estime ici par la methode ergodique\n",
    "\n",
    "    liste_Phi = np.zeros(n)\n",
    "\n",
    "    liste_sauts = liste_sts(lamb,T,saut)\n",
    "\n",
    "    for l in range(n):\n",
    "        coloriage = liste_sauts[:,np.random.binomial(1,p,size = len(liste_sauts[0])) ==1]\n",
    "\n",
    "        liste_sauts_tilde = liste_sts((1-p)*lamb,T,saut)\n",
    "        new_liste_sauts = np.concatenate((coloriage,liste_sauts_tilde),axis=1)\n",
    "        new_liste_sauts = tri_temps(new_liste_sauts)\n",
    "\n",
    "        liste_sauts = new_liste_sauts\n",
    "        liste_Phi[l] = Phi(liste_sauts,P0)\n",
    "\n",
    "    liste_Phi.sort()\n",
    "\n",
    "    quantiles = np.array([liste_Phi[int(np.ceil(seuil*n))-1]])    \n",
    "\n",
    "    while quantiles[-1] > a:\n",
    "        print(\"Inside while\")\n",
    "        liste_Phi = np.zeros(n)\n",
    "\n",
    "        \n",
    "        while Phi(liste_sauts,P0)>=quantiles[-1]:\n",
    "            liste_sauts = liste_sts(lamb,T,saut)\n",
    "        ## Simulation du processus AR(1) conditionnel\n",
    "    \n",
    "        for l in range(n):\n",
    "            coloriage = liste_sauts[:,np.random.binomial(1,p,size = len(liste_sauts[0])) ==1]\n",
    "\n",
    "            liste_sauts_tilde = liste_sts((1-p)*lamb,T,saut)\n",
    "            new_liste_sauts = np.concatenate((coloriage,liste_sauts_tilde),axis=1)\n",
    "            new_liste_sauts = tri_temps(new_liste_sauts)\n",
    "\n",
    "            if Phi(new_liste_sauts,P0)<quantiles[-1]:\n",
    "                liste_sauts = new_liste_sauts\n",
    "\n",
    "            liste_Phi[l] = Phi(liste_sauts,P0)\n",
    "    \n",
    "        liste_Phi.sort()\n",
    "        quantiles = np.append(quantiles, liste_Phi[int(np.ceil(seuil*n))-1] )\n",
    "\n",
    "    \n",
    "    ## On selectionne les niveaux a_{k-1},..., a_1 strictement au dessus de a\n",
    "    quantiles = quantiles[:-1]\n",
    "    ## On rajoute a\n",
    "    quantiles = np.append(quantiles,a)\n",
    "\n",
    "    return quantiles\n",
    "\n",
    "\n",
    "def Phi(liste_sauts,P0):#fonction qui renvoie l'inf des valeurs de X aux instants de saut\n",
    "    #ie l'inf de P0+cumsum(incréments) \n",
    "    if len(liste_sauts[0]) == 0:\n",
    "        return P0\n",
    "    liste_prix = P0+np.cumsum(liste_sauts[1,:])\n",
    "    prix_min = np.min(liste_prix)\n",
    "    return prix_min\n",
    "\n",
    "def liste_sts(lbda,T,saut):\n",
    "    \n",
    "    N = np.random.poisson(lbda*T)\n",
    "    liste_temps_sauts = np.random.uniform(low = 0, high = T, size = N)\n",
    "    liste_temps_sauts_triee = [np.sort(liste_temps_sauts)]\n",
    "    liste_increments = [saut(N)]\n",
    "    #renvoie un array de N colonnes et 2 lignes: 1ere ligne pour les temps des sauts (T_n), deuxième ligne pour leurs amplitudes (J_n)\n",
    "    return np.concatenate((liste_temps_sauts_triee,liste_increments),axis=0)\n",
    "\n",
    "def tri_temps(new_liste_sauts):\n",
    "    ordre = [new_liste_sauts[0,:].argsort()]\n",
    "    liste_sauts_triee = np.take_along_axis(new_liste_sauts, np.concatenate((ordre,ordre),axis=0), axis=1) \n",
    "    return liste_sauts_triee\n",
    "\n",
    "\n",
    "def MCMC(M,p,lamb,liste_a,P0,saut): \n",
    "\n",
    "    liste_pi = np.zeros(len(liste_a)) #estimateurs des probabilités conditionnelles\n",
    "\n",
    "    liste_indicatrices = np.zeros(M,dtype=bool) \n",
    "    \"\"\"\n",
    "    le k-ieme élém. de liste_indicatrices vaut True si le prix devient négatif avant l'instant T lors du k-ieme essai; False sinon\n",
    "    \"\"\"\n",
    "\n",
    "    #Loi non conditionnelle\n",
    "    \n",
    "    liste_sauts = liste_sts(lamb,T,saut) \n",
    "\n",
    "\n",
    "    for l in range(M):\n",
    "        coloriage = liste_sauts[:,np.random.binomial(1,p,size = len(liste_sauts[0])) ==1]\n",
    "\n",
    "        liste_sauts_tilde = liste_sts((1-p)*lamb,T,saut)\n",
    "        new_liste_sauts = np.concatenate((coloriage,liste_sauts_tilde),axis=1)\n",
    "        new_liste_sauts = tri_temps(new_liste_sauts)\n",
    "\n",
    "        liste_sauts = new_liste_sauts\n",
    "        liste_indicatrices[l] = (Phi(liste_sauts,P0)<liste_a[0])\n",
    "\n",
    "    liste_pi[0] = np.mean(liste_indicatrices)\n",
    "    \n",
    "        \n",
    "\n",
    "\n",
    "    for k in range(1,len(liste_a)):\n",
    "        liste_indicatrices = np.zeros(M,dtype=bool)  \n",
    "\n",
    "        #Initialisation \n",
    "\n",
    "        while Phi(liste_sauts,P0)>=liste_a[k-1]:\n",
    "          \n",
    "            liste_sauts = liste_sts(lamb,T,saut)\n",
    "\n",
    "      \n",
    "        for l in range(M):\n",
    "            coloriage = liste_sauts[:,np.random.binomial(1,p,size = len(liste_sauts[0])) ==1]\n",
    "\n",
    "            liste_sauts_tilde = liste_sts((1-p)*lamb,T,saut)\n",
    "            new_liste_sauts = np.concatenate((coloriage,liste_sauts_tilde),axis=1)\n",
    "            new_liste_sauts = tri_temps(new_liste_sauts)\n",
    "\n",
    "            if Phi(new_liste_sauts,P0)< liste_a[k-1]:\n",
    "                liste_sauts = new_liste_sauts\n",
    "            liste_indicatrices[l] = (Phi(liste_sauts,P0) < liste_a[k])\n",
    "\n",
    "\n",
    "        liste_pi[k] = np.mean(liste_indicatrices)\n",
    "    \n",
    "\n",
    "    proba_prix_negatif = np.prod(liste_pi)\n",
    "        \n",
    "    return proba_prix_negatif"
   ]
  },
  {
   "cell_type": "code",
   "execution_count": 0,
   "metadata": {
    "colab": {},
    "colab_type": "code",
    "id": "U7hW_qchVpAO"
   },
   "outputs": [],
   "source": [
    "#Version optimisée\n",
    "\n",
    "def NiveauxSplitting(a,seuil,M1,lamb,T,p,P0,saut):\n",
    "\n",
    "    \"\"\"\n",
    "    Fonction qui renvoie une estimation des niveaux\n",
    "    de splitting a_1, a_2, ..., a_k tels que P(Phi_T <= a_k | Phi_T <= a_{k-1}) = 0.1 = seuil\n",
    "    (où Phi_T : inf de P_t pour t dans [0;T])\n",
    "    Ces niveaux sont des quantiles d'une loi conditionnelle.\n",
    "    On utilise l'inversion de la fonction de repartition empirique de \n",
    "    cette loi afin d'estimer un quantile par\n",
    "    le quantile empirique.\n",
    "    On a a = a_k < a_{k-1} < ... < a_0= + infini (dans notre problème, a = 0)\n",
    "    La fonction renvoie quantiles = [a_1, ..., a_k]\n",
    "    \"\"\"\n",
    "    ## Estimation du premier niveau a_1: c'est le \n",
    "    ## quantile d'une loi non conditionnelle.\n",
    "    ## On l'estime ici par la methode ergodique\n",
    "\n",
    "    liste_Phi = np.zeros(M1)\n",
    "\n",
    "    liste_sauts = liste_sts(lamb,T,saut)\n",
    "    liste_sauts_min = None\n",
    "    Phi_min = 100000\n",
    "    \n",
    "    for l in range(M1):\n",
    "        coloriage = liste_sauts[:,np.random.binomial(1,p,size = len(liste_sauts[0])) ==1]\n",
    "\n",
    "        liste_sauts_tilde = liste_sts((1-p)*lamb,T,saut)\n",
    "        nc = coloriage.shape[1]\n",
    "        nt = liste_sauts_tilde.shape[1]\n",
    "        new_liste_sauts = np.zeros((2, nc + nt))\n",
    "        new_liste_sts(coloriage, liste_sauts_tilde, new_liste_sauts, nc, nt)\n",
    "        #new_liste_sauts = np.concatenate((coloriage,liste_sauts_tilde),axis=1)\n",
    "        #new_liste_sauts = tri_temps(new_liste_sauts)\n",
    "\n",
    "        liste_sauts = new_liste_sauts\n",
    "        liste_Phi[l] = Phi(liste_sauts,P0)\n",
    "        if liste_Phi[l] < Phi_min:\n",
    "            liste_sauts_min = np.copy(liste_sauts)\n",
    "            Phi_min = liste_Phi[l]\n",
    "\n",
    "    liste_Phi.sort()\n",
    "    \n",
    "    quantiles = np.array([liste_Phi[int(np.ceil(seuil*M1))-1]])    \n",
    "\n",
    "    while quantiles[-1] > a:\n",
    "        #print(\"Inside while\", quantiles[-1], Phi(liste_sauts_min, P0))\n",
    "        if quantiles[-1] <= a + 1:\n",
    "            quantiles = np.append(quantiles, a)\n",
    "            break\n",
    "        \n",
    "        liste_Phi = np.zeros(M1)\n",
    "        \n",
    "        liste_sauts = np.copy(liste_sauts_min)\n",
    "        phi_actual = Phi(liste_sauts, P0)\n",
    "        Phi_min = 100000\n",
    "\n",
    "        ## Simulation du processus AR(1) conditionnel\n",
    "    \n",
    "        for l in range(M1):\n",
    "            coloriage = liste_sauts[:,np.random.binomial(1,p,size = len(liste_sauts[0])) ==1]\n",
    "            liste_sauts_tilde = liste_sts((1-p)*lamb,T,saut)\n",
    "            \n",
    "            nc = coloriage.shape[1]\n",
    "            nt = liste_sauts_tilde.shape[1]\n",
    "            new_liste_sauts = np.zeros((2, nc + nt))\n",
    "            new_liste_sts(coloriage, liste_sauts_tilde, new_liste_sauts, nc, nt)\n",
    "            #new_liste_sauts = np.concatenate((coloriage,liste_sauts_tilde),axis=1)\n",
    "            #new_liste_sauts = tri_temps(new_liste_sauts)\n",
    "            \n",
    "            phi_local = Phi(new_liste_sauts,P0)\n",
    "            \n",
    "            if phi_local<quantiles[-1]:\n",
    "                liste_sauts = new_liste_sauts\n",
    "                phi_actual = phi_local\n",
    "\n",
    "            liste_Phi[l] = phi_actual\n",
    "            if liste_Phi[l] < Phi_min:\n",
    "                liste_sauts_min = np.copy(liste_sauts)\n",
    "                Phi_min = liste_Phi[l]\n",
    "\n",
    "        liste_Phi.sort()\n",
    "        quantile = liste_Phi[int(np.ceil(seuil*M1)) - 1]\n",
    "        if quantile >= quantiles[-1]:\n",
    "            quantiles = np.append(quantiles, quantiles[-1] - 1)\n",
    "        else:\n",
    "            quantiles = np.append(quantiles, quantile)\n",
    "\n",
    "\n",
    "    ## On selectionne les niveaux a_{k-1},..., a_1 strictement au dessus de a\n",
    "    quantiles = quantiles[:-1]\n",
    "    ## On rajoute a\n",
    "    quantiles = np.append(quantiles,a)\n",
    "\n",
    "    return quantiles\n",
    "\n",
    "\n",
    "from numba import jit\n",
    "\n",
    "@jit(nopython=True)\n",
    "def Phi(liste_sauts, P0): # Function is compiled to machine code when called the first time\n",
    "    prix_min = P0\n",
    "    if len(liste_sauts[0]) == 0:\n",
    "        return P0\n",
    "    for i in liste_sauts[1, :]:\n",
    "        P0 += i\n",
    "        if P0 < prix_min:\n",
    "            prix_min = P0\n",
    "    return prix_min\n",
    "\n",
    "'''def Phi(liste_sauts,P0):#fonction qui renvoie l'inf des valeurs de X aux instants de saut\n",
    "    #ie l'inf de P0+cumsum(incréments) \n",
    "    if len(liste_sauts[0]) == 0:\n",
    "        return P0\n",
    "    liste_prix = P0+np.cumsum(liste_sauts[1,:])\n",
    "    prix_min = np.min(liste_prix)\n",
    "    return prix_min'''\n",
    "\n",
    "def liste_sts(lbda, T, saut):\n",
    "    N = np.random.poisson(lbda*T)\n",
    "    liste_sauts = np.zeros((2, N))\n",
    "    liste_sauts[0, :] = np.sort(np.random.uniform(low=0, high=T, size=N))\n",
    "    liste_sauts[1, :] = saut(N)\n",
    "    #renvoie un array de N colonnes et 2 lignes: 1ere ligne pour les temps des sauts (T_n), deuxième ligne pour leurs amplitudes (J_n)\n",
    "    return liste_sauts\n",
    "    #liste_temps_sauts = np.random.uniform(low = 0, high = T, size = N)\n",
    "    #liste_temps_sauts_triee = [np.sort(liste_temps_sauts)]\n",
    "    #liste_increments = [saut(N)]\n",
    "    #return np.concatenate((liste_temps_sauts_triee,liste_increments),axis=0)\n",
    "\n",
    "@jit(nopython=True)\n",
    "def new_liste_sts(coloriage, liste_sauts_tilde, new_liste_sauts, nc, nt):\n",
    "    i = 0\n",
    "    j = 0\n",
    "    k = 0\n",
    "    # Merge two listes triées\n",
    "    while i < nc:\n",
    "        T1 = coloriage[0, i]\n",
    "        while j < nt and liste_sauts_tilde[0, j] < T1:\n",
    "            new_liste_sauts[:, k] = liste_sauts_tilde[:, j]\n",
    "            j += 1\n",
    "            k += 1\n",
    "        new_liste_sauts[:, k] = coloriage[:, i]\n",
    "        i += 1\n",
    "        k += 1\n",
    "    while j < nt:\n",
    "        new_liste_sauts[:, k] = liste_sauts_tilde[:, j]\n",
    "        j += 1\n",
    "        k += 1\n",
    "    return new_liste_sauts\n",
    "\n",
    "def tri_temps(new_liste_sauts):\n",
    "    ordre = [new_liste_sauts[0,:].argsort()]\n",
    "    liste_sauts_triee = np.take_along_axis(new_liste_sauts, np.concatenate((ordre,ordre),axis=0), axis=1) \n",
    "    return liste_sauts_triee\n",
    "\n",
    "\n",
    "def MCMC(M2,p,lamb,liste_a,P0,saut):\n",
    "\n",
    "    liste_pi = np.zeros(len(liste_a)) #estimateurs des probabilités conditionnelles\n",
    "\n",
    "    liste_indicatrices = np.zeros(M2,dtype=bool) \n",
    "    \"\"\"\n",
    "    le k-ieme élém. de liste_indicatrices vaut True si le prix devient négatif avant l'instant T lors du k-ieme essai; False sinon\n",
    "    \"\"\"\n",
    "\n",
    "    #Loi non conditionnelle\n",
    "    \n",
    "    liste_sauts = liste_sts(lamb,T,saut)\n",
    "    liste_sauts_min = None\n",
    "    Found = False\n",
    "\n",
    "    for l in range(M2):\n",
    "        coloriage = liste_sauts[:,np.random.binomial(1,p,size = len(liste_sauts[0])) ==1]\n",
    "        liste_sauts_tilde = liste_sts((1-p)*lamb,T,saut)\n",
    "        \n",
    "        nc = coloriage.shape[1]\n",
    "        nt = liste_sauts_tilde.shape[1]\n",
    "        new_liste_sauts = np.zeros((2, nc + nt))\n",
    "        new_liste_sts(coloriage, liste_sauts_tilde, new_liste_sauts, nc, nt)\n",
    "        #new_liste_sauts = np.concatenate((coloriage,liste_sauts_tilde),axis=1)\n",
    "        #new_liste_sauts = tri_temps(new_liste_sauts)\n",
    "\n",
    "        liste_sauts = new_liste_sauts\n",
    "        if Phi(liste_sauts, P0) < liste_a[0]:\n",
    "            liste_indicatrices[l] = True\n",
    "            if not Found:\n",
    "                liste_sauts_min = np.copy(liste_sauts)\n",
    "                Found = True\n",
    "\n",
    "    liste_pi[0] = np.mean(liste_indicatrices)\n",
    "    \n",
    "    for k in range(1,len(liste_a)):\n",
    "        liste_indicatrices = np.zeros(M2,dtype=bool)  \n",
    "\n",
    "        #Initialisation \n",
    "        liste_sauts = np.copy(liste_sauts_min)\n",
    "        phi_actual = Phi(liste_sauts, P0)\n",
    "        \n",
    "        Found = False\n",
    "\n",
    "        for l in range(M2):\n",
    "            coloriage = liste_sauts[:,np.random.binomial(1,p,size = len(liste_sauts[0])) ==1]\n",
    "\n",
    "            liste_sauts_tilde = liste_sts((1-p)*lamb,T,saut)\n",
    "\n",
    "            nc = coloriage.shape[1]\n",
    "            nt = liste_sauts_tilde.shape[1]\n",
    "            new_liste_sauts = np.zeros((2, nc + nt))\n",
    "            new_liste_sts(coloriage, liste_sauts_tilde, new_liste_sauts, nc, nt)\n",
    "            #new_liste_sauts = np.concatenate((coloriage,liste_sauts_tilde),axis=1)\n",
    "            #new_liste_sauts = tri_temps(new_liste_sauts)\n",
    "\n",
    "            phi_local = Phi(new_liste_sauts, P0)\n",
    "            \n",
    "            if phi_local < liste_a[k-1]:\n",
    "                liste_sauts = new_liste_sauts\n",
    "                phi_actual = phi_local\n",
    "\n",
    "            if phi_actual < liste_a[k]:\n",
    "                liste_indicatrices[l] = True\n",
    "                if not Found:\n",
    "                    liste_sauts_min = np.copy(liste_sauts)\n",
    "\n",
    "        liste_pi[k] = np.mean(liste_indicatrices)\n",
    "    \n",
    "    proba_prix_negatif = np.prod(liste_pi)\n",
    "    return proba_prix_negatif"
   ]
  },
  {
   "cell_type": "code",
   "execution_count": 0,
   "metadata": {
    "colab": {
     "base_uri": "https://localhost:8080/",
     "height": 85
    },
    "colab_type": "code",
    "id": "niBUuW0pFwOv",
    "outputId": "a5db9ae1-ae40-48d5-8066-7d0c5e639385"
   },
   "outputs": [
    {
     "name": "stdout",
     "output_type": "stream",
     "text": [
      "Niveaux de splitting :  [19. 10.  3.  0.]\n",
      "Estimation de la probabilité de ruine pour m=1 par méthode de Splitting/MCMC: 0.00000033+/-0.00000002\n",
      "CPU times: user 25.7 s, sys: 21.1 ms, total: 25.7 s\n",
      "Wall time: 25.7 s\n"
     ]
    }
   ],
   "source": [
    "%%time\n",
    "\n",
    "M = int(1e4) \n",
    "a=0\n",
    "\n",
    "#Choix des paramètres pour les niveaux de splitting et la simulation par chaîne de Markov\n",
    "seuil = 0.02 #Choisi pour avoir 4 niveaux de Splitting\n",
    "p=0.89\n",
    "\n",
    "liste_a = NiveauxSplitting(a,seuil,M,lamb,T,p,P0,saut_1) #exemple: [19. 10.  3.  0.] pour M = 10^4, seuil=0.02 et p=0.5\n",
    "print(\"Niveaux de splitting : \",liste_a)\n",
    "\n",
    "n=10\n",
    "probas = np.zeros(n)\n",
    "M2 = int(1e4)\n",
    "\n",
    "for i in range(n):\n",
    "    probas[i] = MCMC(M2, p,lamb,liste_a,P0,saut_1)\n",
    "\n",
    "p_r = np.mean(probas)\n",
    "sigma_emp = np.std(probas)/np.sqrt(n) #écart-type empirique de la moyenne des n estimateurs\n",
    "print(\"Estimation de la probabilité de ruine pour m=1 par méthode de Splitting/MCMC: {:09.8f}+/-{:09.8f}\".format(p_r,sigma_emp))"
   ]
  },
  {
   "cell_type": "code",
   "execution_count": 0,
   "metadata": {
    "colab": {
     "base_uri": "https://localhost:8080/",
     "height": 51
    },
    "colab_type": "code",
    "id": "4-6c2Mr2G2_G",
    "outputId": "29db7443-3340-4112-8af2-5a32a0d9b357"
   },
   "outputs": [
    {
     "name": "stdout",
     "output_type": "stream",
     "text": [
      "Niveaux de splitting :  [19.  9.  1.  0.]\n",
      "Estimation de la probabilité de ruine pour m=3 par méthode de Splitting/MCMC: 0.00409199+/-0.00006778\n"
     ]
    }
   ],
   "source": [
    "M = int(1e4) \n",
    "\n",
    "a=0\n",
    "\n",
    "\n",
    "#Choix des paramètres pour les niveaux de splitting et la simulation par chaîne de Markov\n",
    "seuil = 0.2\n",
    "p=0.5\n",
    "\n",
    "liste_a = NiveauxSplitting(a,seuil,M,lamb,T,p,P0,saut_2)\n",
    "print(\"Niveaux de splitting : \",liste_a)\n",
    "\n",
    "n=10\n",
    "probas = np.zeros(n)\n",
    "M2 = int(1e4)\n",
    "\n",
    "\n",
    "for i in range(n):\n",
    "    probas[i] = MCMC(M2, p,lamb,liste_a,P0,saut_2)\n",
    "\n",
    "p_r = np.mean(probas)\n",
    "sigma_emp = np.std(probas)/np.sqrt(n) #écart-type empirique de la moyenne des n estimateurs\n",
    "\n",
    "print(\"Estimation de la probabilité de ruine pour m=3 par méthode de Splitting/MCMC: {:09.8f}+/-{:09.8f}\".format(p_r,sigma_emp))"
   ]
  },
  {
   "cell_type": "markdown",
   "metadata": {
    "colab_type": "text",
    "id": "pT72hdIQHtIw"
   },
   "source": [
    "###  Question 1.2 : Quantile\n"
   ]
  },
  {
   "cell_type": "code",
   "execution_count": 0,
   "metadata": {
    "colab": {},
    "colab_type": "code",
    "id": "pqElMsbqHw9K"
   },
   "outputs": [],
   "source": [
    "#Naif - Méthode 1\n",
    "\n",
    "def Quantile_naif(seuil,n,lamb,T,P0,k,saut):\n",
    "\n",
    "    liste_P_t = np.zeros(n)\n",
    "    for i in range(n):\n",
    "        N = np.random.poisson(lamb*T)\n",
    "        increments = saut(N)\n",
    "        \n",
    "        liste_P_t[i] = np.sum(increments)+P0\n",
    "    liste_P_t = np.sort(liste_P_t)\n",
    "    return liste_P_t[int(np.ceil(n*seuil))-1]"
   ]
  },
  {
   "cell_type": "code",
   "execution_count": 0,
   "metadata": {
    "colab": {},
    "colab_type": "code",
    "id": "XbtAcbevXKd2"
   },
   "outputs": [],
   "source": [
    "#Accéléré - Méthode 2\n",
    "\n",
    "# Poisson composé naïf\n",
    "def Poisson_compose(P0, T, lamb, saut, size):\n",
    "  # saut : une fonction qui prend la taille de sortie comme entrée pour les sauts.\n",
    "  N = np.random.poisson(lam=lamb * T, size=size + 1)\n",
    "  N[0] = 0\n",
    "  N = np.cumsum(N)                  # La valeur N[i] - N[i - 1] est égale à N pour le i-ième échantillon\n",
    "                                    # Donc la somme des sauts entre indice N[i] + 1 et N[i + 1] suit la loi voulue\n",
    "  J = saut(N[-1] + 1)               # Sauts\n",
    "  J = np.cumsum(J)\n",
    "  M = J[N[1:]] - J[N[:-1]]          # On veut la somme entre l'indice N[i] + 1 et N[i + 1]\n",
    "  return P0 + M # échantillon de taille (size)\n",
    "\n",
    "def quantile(echantillion, size, quant):\n",
    "  index_bot = int(math.ceil(size * quant))\n",
    "  index_top = int(math.ceil(size * (1 - quant)))\n",
    "  echantillion.partition((index_bot, index_top))\n",
    "  return echantillion[index_bot], echantillion[index_top]\n",
    "\n",
    "def Question1_2_naive(size, quant, saut, P0, T, lamb):\n",
    "  return quantile(Poisson_compose(P0, T, lamb, saut, size), size, quant)"
   ]
  },
  {
   "cell_type": "code",
   "execution_count": 0,
   "metadata": {
    "colab": {},
    "colab_type": "code",
    "id": "l7SDgjpKXOjp"
   },
   "outputs": [],
   "source": [
    "#Ergodique - Méthode 3\n",
    "\n",
    "def Quantile_ergodique(seuil,n,lamb,T,p,P0,saut): #renvoie le quantile de niveau \"seuil\" du processus de poisson composé\n",
    "\n",
    "    liste_prix_final = np.zeros(n)\n",
    "\n",
    "    liste_sauts = liste_sts(lamb,T,saut) \n",
    "\n",
    "    for l in range(n):\n",
    "        coloriage = liste_sauts[:,np.random.binomial(1,p,size = len(liste_sauts[0])) ==1]\n",
    "\n",
    "        liste_sauts_tilde = liste_sts((1-p)*lamb,T,saut)\n",
    "        new_liste_sauts = np.concatenate((coloriage,liste_sauts_tilde),axis=1)\n",
    "        liste_sauts = tri_temps(new_liste_sauts)\n",
    "\n",
    "        liste_prix_final[l] = np.cumsum(liste_sauts[1,:])[-1] +P0\n",
    "\n",
    "    liste_prix_final.sort()\n",
    "  \n",
    "    quantile = liste_prix_final[int(np.ceil(seuil*n))-1]    \n",
    "\n",
    "  \n",
    "    return quantile"
   ]
  },
  {
   "cell_type": "code",
   "execution_count": 0,
   "metadata": {
    "colab": {
     "base_uri": "https://localhost:8080/",
     "height": 34
    },
    "colab_type": "code",
    "id": "kUs0JGZkX5EI",
    "outputId": "644a1067-99fe-492a-e32c-6da9e841e778"
   },
   "outputs": [
    {
     "name": "stdout",
     "output_type": "stream",
     "text": [
      "Quantiles gauche et droit de niveau 0.0001 estimés par MCMC pour m=3 : -13.0 et 83.0\n"
     ]
    }
   ],
   "source": [
    "#Exemple\n",
    "\n",
    "n = int(1e6) \n",
    "niveau = 1e-4\n",
    "p=0.5\n",
    "\n",
    "quantileGauche = Quantile_ergodique(niveau,n,lamb,T,p,P0,saut_2) \n",
    "quantileDroit = Quantile_ergodique(1-niveau,n,lamb,T,p,P0,saut_2)\n",
    "print(\"Quantiles gauche et droit de niveau {} estimés par MCMC pour m=3 : {} et {}\".format(niveau,quantileGauche,quantileDroit))"
   ]
  },
  {
   "cell_type": "markdown",
   "metadata": {
    "colab_type": "text",
    "id": "VTIjyB-laS-F"
   },
   "source": [
    "## __Question 2__"
   ]
  },
  {
   "cell_type": "code",
   "execution_count": 0,
   "metadata": {
    "colab": {},
    "colab_type": "code",
    "id": "Xhk2Kz9QfCI8"
   },
   "outputs": [],
   "source": [
    "value_1 = np.array([-1, 1])\n",
    "value_2 = np.array([-3, -2, -2, -1, -1, -1, 1, 1, 1, 2, 2, 3])\n",
    "\n",
    "saut_1 = lambda x : value_1[np.random.randint(low=2, size=x)] #correspond à m=1\n",
    "saut_2 = lambda x : value_2[np.random.randint(low=12, size=x)] #correspond à m=3\n",
    "\n",
    "P0 = 35\n",
    "T = 4*60*60\n",
    "lamb1 = 1/660\n",
    "lamb2 = 1/110"
   ]
  },
  {
   "cell_type": "markdown",
   "metadata": {
    "colab_type": "text",
    "id": "K_5aVf1mmsOG"
   },
   "source": [
    "### Simulation de trajectoire"
   ]
  },
  {
   "cell_type": "code",
   "execution_count": 0,
   "metadata": {
    "colab": {
     "base_uri": "https://localhost:8080/",
     "height": 298
    },
    "colab_type": "code",
    "id": "tjI6Y-1Gmvhk",
    "outputId": "f3dc4168-6922-429d-a53e-a796dccc5c14"
   },
   "outputs": [
    {
     "data": {
      "text/plain": [
       "<matplotlib.legend.Legend at 0x7f5744998588>"
      ]
     },
     "execution_count": 14,
     "metadata": {
      "tags": []
     },
     "output_type": "execute_result"
    },
    {
     "data": {
      "image/png": "[encoded data removed]",
      "text/plain": [
       "<Figure size 720x288 with 2 Axes>"
      ]
     },
     "metadata": {
      "needs_background": "light",
      "tags": []
     },
     "output_type": "display_data"
    }
   ],
   "source": [
    "#Simulation des temps entre les sauts plutôt que directement N puis uniforme (évite d'avoir à trier en NlogN les temps des sauts)\n",
    "\n",
    "def liste_sauts(lamb1,lamb2,T,P0,saut):\n",
    "    liste_t1= np.array([0,np.random.exponential(1/lamb1)])\n",
    "    liste_t2= np.array([0,np.random.exponential(1/lamb2)])\n",
    "\n",
    "    liste_increments1= np.array([0])\n",
    "    liste_increments2 = -1+2*np.random.binomial(1,0.5,1)\n",
    "    while liste_t1[-1]<T:\n",
    "        liste_increments1 = np.append(liste_increments1,saut(1))\n",
    "        liste_t1=np.append(liste_t1,liste_t1[-1]+np.random.exponential(1/lamb1))\n",
    "    liste_t1[-1]= T\n",
    "    liste_increments1=np.append(liste_increments1,0)\n",
    "    liste_prix1 = P0/2 + np.cumsum(liste_increments1)\n",
    "\n",
    "    while liste_t2[-1]<T:\n",
    "        liste_increments2 = np.append(liste_increments2,-liste_increments2[-1])\n",
    "        liste_t2=np.append(liste_t2,liste_t2[-1]+np.random.exponential(1/lamb2))\n",
    "\n",
    "    liste_t2[-1]= T\n",
    "    liste_increments2=np.append(liste_increments2,0)\n",
    "    liste_prix2 = P0/2 + np.cumsum(liste_increments2)\n",
    "\n",
    "    liste_t = np.concatenate((liste_t1[:-1],liste_t2[:-1]))\n",
    "    liste_increments = np.concatenate((liste_increments1[:-1],liste_increments2[:-1]))\n",
    "    arg = np.argsort(liste_t)\n",
    "    liste_t = liste_t[arg]\n",
    "    liste_increments = liste_increments[arg]\n",
    "\n",
    "    liste_increments = np.append(liste_increments,0)\n",
    "    liste_t = np.append(liste_t,T)\n",
    "    liste_prix = P0 + np.cumsum(liste_increments)\n",
    "\n",
    "    return liste_t1, liste_prix1,liste_t2,liste_prix2,liste_t,liste_prix\n",
    "\n",
    "plt.figure(figsize=(10, 4))\n",
    "plt.subplot(1, 2, 1)\n",
    "liste_t1, liste_prix1,liste_t2,liste_prix2,liste_t,liste_prix = liste_sauts(lamb1,lamb2,T,P0,saut_1)\n",
    "plt.step(liste_t1, liste_prix1, where=\"post\", label=\"Processus 1\", linewidth=2.0)\n",
    "\n",
    "plt.step(liste_t2, liste_prix2, where=\"post\", label=\"Processus 2\", linewidth=2.0)\n",
    "plt.step(liste_t, liste_prix, where=\"post\", label=\"Processus total\", linewidth=2.0)\n",
    "plt.title(\"m=1\", fontsize=12)\n",
    "\n",
    "plt.subplot(1, 2, 2)\n",
    "liste_t1, liste_prix1,liste_t2,liste_prix2,liste_t,liste_prix = liste_sauts(lamb1,lamb2,T,P0,saut_2)\n",
    "plt.step(liste_t1, liste_prix1, where=\"post\", label=\"Processus 1\", linewidth=2.0)\n",
    "\n",
    "plt.step(liste_t2, liste_prix2, where=\"post\", label=\"Processus 2\", linewidth=2.0)\n",
    "plt.step(liste_t, liste_prix, where=\"post\", label=\"Processus total\", linewidth=2.0)\n",
    "plt.title(\"m=3\", fontsize=12)\n",
    "\n",
    "\n",
    "plt.legend(loc=\"best\")\n"
   ]
  },
  {
   "cell_type": "markdown",
   "metadata": {
    "colab_type": "text",
    "id": "M7i-keOvZZqx"
   },
   "source": [
    "### Question 2.1 : Probabilité de prix négatif"
   ]
  },
  {
   "cell_type": "markdown",
   "metadata": {
    "colab_type": "text",
    "id": "DkAtOAu2VDLl"
   },
   "source": [
    "####Méthode 1 - MC Naif"
   ]
  },
  {
   "cell_type": "code",
   "execution_count": 0,
   "metadata": {
    "colab": {},
    "colab_type": "code",
    "id": "qXdzKRv-e3eE"
   },
   "outputs": [],
   "source": [
    "def ruine(lamb1,lamb2,T,P0,saut):\n",
    "    N1 = np.random.poisson(lamb1*T)\n",
    "    N2 = np.random.poisson(lamb2*T)\n",
    "    ind_2 = np.sort(np.random.choice(np.arange(N1+N2),replace=False,size=N2)) #indices des sauts du processus 2\n",
    "    one_first = np.random.binomial(1,0.5) #pour savoir si le premier incrément du processus 2 vaut 1 ou -1\n",
    "\n",
    "    increments=saut(N1+N2)\n",
    "\n",
    "    for i in range(N2):\n",
    "        increments[ind_2[i]] = -1+ 2*((i+one_first)%2)\n",
    "    liste_prix = P0 + np.cumsum(increments)\n",
    "\n",
    "    inf_P = np.min(liste_prix)\n",
    "    if inf_P<0:\n",
    "        return 1\n",
    "    return 0\n",
    "\n",
    "\n",
    "def MC_naif(M,lamb1,lamb2,T,P0,saut): \n",
    "    liste_ruine = np.zeros(M) \n",
    "\n",
    "    for l in range(M):\n",
    "        liste_ruine[l] = ruine(lamb1,lamb2,T,P0,saut) \n",
    "\n",
    "\n",
    "    proba_prix_negatif = np.mean(liste_ruine)\n",
    "    return proba_prix_negatif"
   ]
  },
  {
   "cell_type": "code",
   "execution_count": 0,
   "metadata": {
    "colab": {
     "base_uri": "https://localhost:8080/",
     "height": 68
    },
    "colab_type": "code",
    "id": "nRunlYFqOa7F",
    "outputId": "9034394c-5ce4-4f97-8c69-94cd7896bd27"
   },
   "outputs": [
    {
     "name": "stdout",
     "output_type": "stream",
     "text": [
      "Probabilité de ruine pour m=3 : 4.6e-05 +/- 1.3293061015973708e-05\n",
      "CPU times: user 1min 49s, sys: 18 ms, total: 1min 49s\n",
      "Wall time: 1min 49s\n"
     ]
    }
   ],
   "source": [
    "%%time\n",
    "M=int(1e6)\n",
    "\n",
    "p_r = MC_naif(M,lamb1,lamb2,T,P0,saut_2)\n",
    "R_IC = 1.96*np.sqrt(p_r*(1-p_r)/M)\n",
    "print(\"Probabilité de ruine pour m=3 : {} +/- {}\".format(p_r,R_IC))"
   ]
  },
  {
   "cell_type": "markdown",
   "metadata": {
    "colab_type": "text",
    "id": "YvaXVUWmVJLg"
   },
   "source": [
    "#### Méthode 1 bis - Monte-Carlo accéléré"
   ]
  },
  {
   "cell_type": "code",
   "execution_count": 0,
   "metadata": {
    "colab": {},
    "colab_type": "code",
    "id": "eSWHngzBe5Kd"
   },
   "outputs": [],
   "source": [
    "#Monte-Carlo accéléré - Méthode 2\n",
    "from numba import jit\n",
    "from numpy.random import exponential\n",
    "\n",
    "@jit(nopython=True)\n",
    "def Q2_1_MC(P0, T, m):\n",
    "  if m == 1:\n",
    "    value = np.array([-1, 1])\n",
    "    low = 2\n",
    "  else:\n",
    "    value = np.array([-3, -2, -2, -1, -1, -1, 1, 1, 1, 2, 2, 3])\n",
    "    low = 12\n",
    "  J2_0 = np.array([-1, 1])[np.random.randint(low=2)]\n",
    "\n",
    "  somme = P0\n",
    "  T1 = exponential(660)\n",
    "  T2 = exponential(110)\n",
    "  while T1 < T:\n",
    "    while T2 < T1:\n",
    "      somme += J2_0\n",
    "      if somme < 0:\n",
    "        return 1\n",
    "      J2_0 *= -1\n",
    "      T2 += exponential(110)\n",
    "    somme += value[np.random.randint(low=low)]\n",
    "    if somme < 0:\n",
    "      return 1\n",
    "    T1 += exponential(660)\n",
    "  return 0\n",
    "\n",
    "def Q2_1_MC_n(P0, T, m, size):\n",
    "  somme = 0\n",
    "  for i in range(size):\n",
    "    somme += Q2_1_MC(P0, T, m)\n",
    "  return somme / size"
   ]
  },
  {
   "cell_type": "code",
   "execution_count": 0,
   "metadata": {
    "colab": {
     "base_uri": "https://localhost:8080/",
     "height": 68
    },
    "colab_type": "code",
    "id": "cr0liOH6Qo3K",
    "outputId": "7bafd507-2e01-4932-f5bd-6b75e8dc3a1a"
   },
   "outputs": [
    {
     "name": "stdout",
     "output_type": "stream",
     "text": [
      "Estimation de la probabilité de ruine pour m=3 par méthode de Monte-Carlo accélérée: 0.00004500+/-0.00001315\n",
      "CPU times: user 12.2 s, sys: 22 ms, total: 12.3 s\n",
      "Wall time: 12.3 s\n"
     ]
    }
   ],
   "source": [
    "%%time\n",
    "M=int(1e6)\n",
    "m = 3\n",
    "\n",
    "p_r = Q2_1_MC_n(P0, T, m, M)\n",
    "\n",
    "R_IC = 1.96*np.sqrt(p_r*(1-p_r))/np.sqrt(M) #rayon de l'intervalle de confiance\n",
    "\n",
    "print(\"Estimation de la probabilité de ruine pour m=3 par méthode de Monte-Carlo accélérée: {:09.8f}+/-{:09.8f}\".format(p_r,R_IC))"
   ]
  },
  {
   "cell_type": "markdown",
   "metadata": {
    "colab_type": "text",
    "id": "H_AHvugqY0Nf"
   },
   "source": [
    "#### Méthode 2 - Echantillonnage d'importance"
   ]
  },
  {
   "cell_type": "code",
   "execution_count": 0,
   "metadata": {
    "colab": {},
    "colab_type": "code",
    "id": "u2t_b244Y45z"
   },
   "outputs": [],
   "source": [
    "def ruine(lamb1,lamb2,T,P0,c,increment1_c,esp):\n",
    "    #returns 0,0 if no price is strictly negative\n",
    "    #returns 1, 1/L_T otherwise\n",
    "\n",
    "    t1=np.random.exponential(1/lamb1/esp)\n",
    "    t2=np.random.exponential(1/lamb2)\n",
    "    P = P0\n",
    "    Pmin=P0\n",
    "\n",
    "    sumIncrements1=0\n",
    "    increment2 = -1+2*np.random.binomial(1,0.5) #pour savoir si le premier incrément du processus 2 vaut 1 ou -1\n",
    "\n",
    "    while t1<T or t2<T:\n",
    "        if P<Pmin:\n",
    "            Pmin=P\n",
    "            \n",
    "        if (t2<t1):\n",
    "            P+=increment2\n",
    "            increment2 *=-1\n",
    "            t2+=np.random.exponential(1/lamb2)\n",
    "        else:\n",
    "            increment1= increment1_c(1)\n",
    "            sumIncrements1+=increment1\n",
    "            P+=increment1\n",
    "            t1+=np.random.exponential(1/lamb1/esp)\n",
    "\n",
    "    if Pmin<0:\n",
    "        return 1,np.exp(lamb1*T*(esp-1)-c*sumIncrements1)\n",
    "    return 0,0\n",
    "\n",
    "\n",
    "def echant_imp(M,lamb1,lamb2,T,P0,c,m): \n",
    "    liste_ruine = np.zeros(M) \n",
    "    liste_poids = np.zeros(M) #liste des 1/L_T pour l'échantillonnage d'importance\n",
    "    \n",
    "    if m==1:\n",
    "        esp = np.cosh(c) #E[exp(c J_1)]\n",
    "        increment1_c = lambda x: np.random.choice([-1,1],p=np.array([np.exp(-c),np.exp(c)])/(2*esp))\n",
    "\n",
    "    if m==3:\n",
    "        esp = np.cosh(c)/2 +np.cosh(2*c)/3 + np.cosh(3*c)/6\n",
    "        increment1_c = lambda x: np.random.choice([-3,-2,-1,1,2,3],p=np.array([np.exp(-3*c)/12,np.exp(-2*c)/6,np.exp(-c)/4,np.exp(c)/4,np.exp(2*c)/6,np.exp(3*c)/12])/esp)\n",
    "\n",
    "    for l in range(M):\n",
    "        liste_ruine[l],liste_poids[l] = ruine(lamb1,lamb2,T,P0,c,increment1_c,esp) \n",
    "\n",
    "\n",
    "    proba_prix_negatif = np.mean(liste_ruine*liste_poids)\n",
    "    R_IC = 1.96*np.sqrt(np.mean(liste_ruine*liste_poids*liste_poids) - proba_prix_negatif**2)/np.sqrt(M)\n",
    "    return np.mean(liste_ruine),proba_prix_negatif,R_IC #il faut que np.mean(liste_ruine) soit environ 0.5 pour que c soit bien réglé\n"
   ]
  },
  {
   "cell_type": "code",
   "execution_count": 0,
   "metadata": {
    "colab": {
     "base_uri": "https://localhost:8080/",
     "height": 51
    },
    "colab_type": "code",
    "id": "1HA-W-rxwOEX",
    "outputId": "9f943c23-94b4-4814-e5c7-cb404c0b2baf"
   },
   "outputs": [
    {
     "name": "stdout",
     "output_type": "stream",
     "text": [
      "La probabilité de prix négatif pour m=1 est 1.4751420957803482e-12 +/- 1.4207211854856186e-13\n",
      "On a choisi c = -1.3, ce qui donne comme proportion de prix négatifs : 0.5993 (cette proportion devrait être proche de 0.5)\n"
     ]
    }
   ],
   "source": [
    "M=int(1e4)\n",
    "c=-1.3\n",
    "m=1\n",
    "\n",
    "fraction_negatifs,proba_prix_negatif,R_IC = echant_imp(M,lamb1,lamb2,T,P0,c,m)\n",
    "print(\"La probabilité de prix négatif pour m={} est {} +/- {}\".format(m,proba_prix_negatif,R_IC))\n",
    "print(\"On a choisi c = {}, ce qui donne comme proportion de prix négatifs : {} (cette proportion devrait être proche de 0.5)\".format(c,fraction_negatifs))"
   ]
  },
  {
   "cell_type": "code",
   "execution_count": 0,
   "metadata": {
    "colab": {
     "base_uri": "https://localhost:8080/",
     "height": 51
    },
    "colab_type": "code",
    "id": "70JzlEoQRpB-",
    "outputId": "1a90c80e-ab43-45c6-8d18-051d6773168e"
   },
   "outputs": [
    {
     "name": "stdout",
     "output_type": "stream",
     "text": [
      "La probabilité de prix négatif pour m=3 est 4.974503012522091e-05 +/- 2.937397048042499e-06\n",
      "On a choisi c = -0.4, ce qui donne comme proportion de prix négatifs : 0.4556 (cette proportion devrait être proche de 0.5)\n"
     ]
    }
   ],
   "source": [
    "M=int(1e4)\n",
    "c=-0.4\n",
    "m=3\n",
    "\n",
    "fraction_negatifs,proba_prix_negatif,R_IC = echant_imp(M,lamb1,lamb2,T,P0,c,m)\n",
    "print(\"La probabilité de prix négatif pour m={} est {} +/- {}\".format(m,proba_prix_negatif,R_IC))\n",
    "print(\"On a choisi c = {}, ce qui donne comme proportion de prix négatifs : {} (cette proportion devrait être proche de 0.5)\".format(c,fraction_negatifs))"
   ]
  },
  {
   "cell_type": "markdown",
   "metadata": {
    "colab_type": "text",
    "id": "GBBcP11haQUB"
   },
   "source": [
    "### Question 2.2 : Quantiles"
   ]
  },
  {
   "cell_type": "markdown",
   "metadata": {
    "colab_type": "text",
    "id": "pPbFrTT6f91o"
   },
   "source": [
    "#### Méthode 1 - Monte Carlo"
   ]
  },
  {
   "cell_type": "code",
   "execution_count": 0,
   "metadata": {
    "colab": {},
    "colab_type": "code",
    "id": "K1IW8-ydaPlN"
   },
   "outputs": [],
   "source": [
    "def Quantile_naif_2(seuil,n,lamb1,lamb2,T,P0,saut):\n",
    "\n",
    "    liste_P_t = np.zeros(n)\n",
    "    for i in range(n):\n",
    "        N1 = np.random.poisson(lamb1*T)\n",
    "        N2 = np.random.poisson(lamb2*T)\n",
    "        P2 = 0 \n",
    "        if (N2%2!=0): #si N2 est pair, la contribution du processus 2 vaut 0\n",
    "            P2=-1+2*np.random.binomial(1,0.5)\n",
    "        increments = saut(N1)\n",
    "        \n",
    "        liste_P_t[i] = np.sum(increments)+P0 +P2\n",
    "    liste_P_t = np.sort(liste_P_t)\n",
    "    return liste_P_t[int(np.ceil(n*seuil))-1]"
   ]
  },
  {
   "cell_type": "code",
   "execution_count": 0,
   "metadata": {
    "colab": {
     "base_uri": "https://localhost:8080/",
     "height": 68
    },
    "colab_type": "code",
    "id": "5EniB5YnTKSu",
    "outputId": "7c0b631c-2cfe-4099-ad75-27c6275abe5f"
   },
   "outputs": [
    {
     "name": "stdout",
     "output_type": "stream",
     "text": [
      "Quantile de niveau 0.0001 pour m=3: 2.0\n",
      "CPU times: user 22.5 s, sys: 91.8 ms, total: 22.6 s\n",
      "Wall time: 22.5 s\n"
     ]
    }
   ],
   "source": [
    "%%time \n",
    "\n",
    "seuil = 1e-4\n",
    "n = int(1e6)\n",
    "print(\"Quantile de niveau {} pour m=3: {}\".format(seuil,Quantile_naif_2(seuil,n,lamb1,lamb2,T,P0,saut_2)))"
   ]
  },
  {
   "cell_type": "markdown",
   "metadata": {
    "colab_type": "text",
    "id": "zvkb5fCYgAhQ"
   },
   "source": [
    "#### Echantillonnage d'importance"
   ]
  },
  {
   "cell_type": "code",
   "execution_count": 0,
   "metadata": {
    "colab": {},
    "colab_type": "code",
    "id": "YJ4YaotnfxqM"
   },
   "outputs": [],
   "source": [
    "from numpy.random import exponential, choice\n",
    "from numba import jit\n",
    "\n",
    "@jit(nopython=True)\n",
    "def rand_choice_nb(arr, prob):\n",
    "    \"\"\"\n",
    "    :param arr: A 1D numpy array of values to sample from.\n",
    "    :param prob: A 1D numpy array of probabilities for the given samples.\n",
    "    :return: A random sample from the given array with a given probability.\n",
    "    \"\"\"\n",
    "    return arr[np.searchsorted(np.cumsum(prob), np.random.random(), side=\"right\")]\n",
    "\n",
    "@jit(nopython=True)\n",
    "def quantile_sample(lamb1,lamb2,T,P0,esp, values, p):\n",
    "    #returns 0,0 if no price is strictly negative\n",
    "    #returns 1, 1/L_T otherwise\n",
    "    t1=exponential(1/lamb1/esp)\n",
    "    t2=exponential(1/lamb2)\n",
    "    P = P0\n",
    "    sumIncrements1=0\n",
    "    increment2 = -1+2*np.random.binomial(1,0.5) #pour savoir si le premier incrément du processus 2 vaut 1 ou -1\n",
    "    while t1<T or t2<T:\n",
    "        if (t2<t1):\n",
    "            P+=increment2\n",
    "            increment2 *=-1\n",
    "            t2+=exponential(1/lamb2)\n",
    "        else:\n",
    "            increment1=rand_choice_nb(values,p)\n",
    "            sumIncrements1+=increment1\n",
    "            P+=increment1\n",
    "            t1+=exponential(1/lamb1/esp)\n",
    "    return P,np.exp(lamb1*T*(esp-1)-c*sumIncrements1)\n",
    "\n",
    "def echant_imp(M,lamb1,lamb2,T,P0,c,m):\n",
    "    liste_quantiles = np.zeros((M, 2))\n",
    "    if m == 3:\n",
    "        esp = np.cosh(c)/2 +np.cosh(2*c)/3 + np.cosh(3*c)/6\n",
    "        values = np.array([-3,-2,-1,1,2,3])\n",
    "        p = np.array([np.exp(-3*c)/12,np.exp(-2*c)/6,np.exp(-c)/4,np.exp(c)/4,np.exp(2*c)/6,np.exp(3*c)/12])/esp\n",
    "    else:\n",
    "        esp = np.cosh(c)\n",
    "        values = np.array([-1, 1])\n",
    "        p = np.array([np.exp(-c),np.exp(c)])/(2*np.cosh(c))\n",
    "    from tqdm.notebook import tqdm\n",
    "    for l in tqdm(range(M)):\n",
    "        liste_quantiles[l] = quantile_sample(lamb1,lamb2,T,P0,esp,values,p)\n",
    "\n",
    "    liste_quantiles = liste_quantiles[(liste_quantiles[:, 0]).argsort()]             # sort by P_T\n",
    "    liste_quantiles[:, 1] = liste_quantiles[:, 1].cumsum() / M\n",
    "    return liste_quantiles\n",
    "def IC_quantile_importance(quantiles, niveau):\n",
    "    n = len(quantiles)\n",
    "    \n",
    "    index_ = np.where(quantiles[:, 1] > niveau)[0][0]\n",
    "    niveau_inf = (niveau - 1.96 * np.sqrt(niveau * (1-niveau) / n))\n",
    "    niveau_sup = (niveau + 1.96 * np.sqrt(niveau * (1-niveau) / n))\n",
    "    index_inf = np.where(quantiles[:, 1] > niveau_inf)[0][0]\n",
    "    index_sup = np.where(quantiles[:, 1] > niveau_sup)[0][0]\n",
    "    q = quantiles[index_]\n",
    "    print(\"Quantile au niveau {} = {}, avec intervalle de confiance = {}, {}\".format(niveau, \n",
    "                                                                                     int(q[0]), \n",
    "                                                                                     int(quantiles[index_inf][0]), \n",
    "                                                                                     int(quantiles[index_sup][0])))"
   ]
  },
  {
   "cell_type": "code",
   "execution_count": 0,
   "metadata": {
    "colab": {},
    "colab_type": "code",
    "id": "SJhyiQChfysQ"
   },
   "outputs": [],
   "source": [
    "%%time\n",
    "M=int(1e7)\n",
    "c=-1 # 0.3 pour m = 3\n",
    "m=1\n",
    "P0=35\n",
    "T=4*60*60\n",
    "lamb1 = 1/660\n",
    "lamb2 = 1/110\n",
    "\n",
    "values_L_T = echant_imp(M,lamb1,lamb2,T,P0,c,m)\n",
    "\n",
    "quantiles = [1e-4, 1e-5, 1e-6]\n",
    "for quantile in quantiles:\n",
    "    IC_quantile_importance(values_L_T, quantile)"
   ]
  },
  {
   "cell_type": "markdown",
   "metadata": {
    "colab_type": "text",
    "id": "edya6VpkuZuC"
   },
   "source": [
    "## __Question 3__"
   ]
  },
  {
   "cell_type": "code",
   "execution_count": 0,
   "metadata": {
    "colab": {},
    "colab_type": "code",
    "id": "EFkVVNLuWny0"
   },
   "outputs": [],
   "source": [
    "P0 = 35\n",
    "T = 4*60*60\n",
    "lamb = 1/300\n",
    "N=100\n",
    "alpha = -0.875\n",
    "\n",
    "#Pour Monte-Carlo\n",
    "saut_1 = lambda x: np.ones(shape=x) #correspond à m=1\n",
    "saut_2 = lambda x: np.random.choice([1, 2, 3], size=x, replace=True, p=np.array([1/2, 1/3, 1/6])) #correspond à m=3\n",
    "\n",
    "#Pour mutation/sélection\n",
    "saut_1_vect = lambda x,y : np.ones(shape=(x,y))\n",
    "saut_2_vect = lambda x,y: np.random.choice([1, 2, 3], size=(x,y), replace=True, p=np.array([1/2, 1/3, 1/6])) "
   ]
  },
  {
   "cell_type": "markdown",
   "metadata": {
    "colab_type": "text",
    "id": "B9-ak_V-wHh4"
   },
   "source": [
    "### Simulation de trajectoire"
   ]
  },
  {
   "cell_type": "code",
   "execution_count": 0,
   "metadata": {
    "colab": {
     "base_uri": "https://localhost:8080/",
     "height": 353
    },
    "colab_type": "code",
    "id": "ow6xeobWwHCv",
    "outputId": "8fda95e1-9305-477f-8b8f-00416bfee254"
   },
   "outputs": [
    {
     "data": {
      "text/plain": [
       "Text(0.5, 1.0, 'm=3')"
      ]
     },
     "execution_count": 6,
     "metadata": {
      "tags": []
     },
     "output_type": "execute_result"
    },
    {
     "data": {
      "image/png": "[encoded data removed]",
      "text/plain": [
       "<Figure size 720x360 with 2 Axes>"
      ]
     },
     "metadata": {
      "needs_background": "light",
      "tags": []
     },
     "output_type": "display_data"
    }
   ],
   "source": [
    "def sauts(N,saut,P0,alpha,T): \n",
    "    increments = saut(N)\n",
    "    signes = -1+2*np.random.binomial(1,(1+alpha)/2,size=N)\n",
    "    signes[0] = -1+np.random.binomial(1,0.5)*2\n",
    "    signes = np.cumprod(signes)\n",
    "    prix = P0 +np.cumsum(increments*signes)\n",
    "    t=np.random.uniform(low=0,high=T,size=N+1)\n",
    "    t[0]=0\n",
    "    t.sort()\n",
    "    t = np.concatenate((t,t[-1:]))\n",
    "    return t,np.concatenate((np.concatenate((np.array([P0]),prix)),prix[-1:]))\n",
    "\n",
    "\n",
    "plt.figure(figsize=(10, 5))\n",
    "plt.subplot(1, 2, 1)\n",
    "\n",
    "t1,prix1= sauts(N,saut_1,P0,alpha,T)\n",
    "plt.step(t1, prix1, where=\"post\", linewidth=2.0)\n",
    "\n",
    "plt.title(\"m=1\", fontsize=12)\n",
    "\n",
    "plt.subplot(1, 2, 2)\n",
    "t2,prix2= sauts(N,saut_2,P0,alpha,T)\n",
    "plt.step(t2, prix2, where=\"post\", linewidth=2.0)\n",
    "\n",
    "plt.title(\"m=3\", fontsize=12)\n",
    "\n"
   ]
  },
  {
   "cell_type": "markdown",
   "metadata": {
    "colab_type": "text",
    "id": "oFMJEUMhyYeg"
   },
   "source": [
    "### Question 3.1 : Probabilité que le prix prenne des valeurs négatives au cours de N variations"
   ]
  },
  {
   "cell_type": "markdown",
   "metadata": {
    "colab_type": "text",
    "id": "qsDLR-lmbvGR"
   },
   "source": [
    "####Monte-Carlo naïf - Méthode 1\n"
   ]
  },
  {
   "cell_type": "code",
   "execution_count": 0,
   "metadata": {
    "colab": {},
    "colab_type": "code",
    "id": "cIQ3K7YZucVR"
   },
   "outputs": [],
   "source": [
    "def Q3_proba_negatif(N,saut,P0,M,alpha): \n",
    "    liste_px_inf_0 = np.zeros(M)\n",
    "    for i in range(M):\n",
    "        increments = saut(N)\n",
    "        signes = -1+2*np.random.binomial(1,(1+alpha)/2,size=N)\n",
    "        signes[0] = -1+np.random.binomial(1,0.5)*2\n",
    "        signes = np.cumprod(signes)\n",
    "        prix = P0 +np.cumsum(increments*signes)\n",
    "        if np.min(prix)<0:\n",
    "            liste_px_inf_0[i] = 1\n",
    "        liste_px_inf_0[i] = 0\n",
    "    return np.mean(liste_px_inf_0)\n"
   ]
  },
  {
   "cell_type": "code",
   "execution_count": 0,
   "metadata": {
    "colab": {
     "base_uri": "https://localhost:8080/",
     "height": 34
    },
    "colab_type": "code",
    "id": "0Y4anDXAamWQ",
    "outputId": "8fbdb9ad-affb-4023-fa56-41a13cc5790b"
   },
   "outputs": [
    {
     "name": "stdout",
     "output_type": "stream",
     "text": [
      "Probabilité que le prix prenne des valeurs négatives au cours des N premiers sauts : 0.0+/- 0.0\n"
     ]
    }
   ],
   "source": [
    "M= int(1e5)\n",
    "\n",
    "proba_negatif = Q3_proba_negatif(N,saut_2,P0,M,alpha) \n",
    "R_IC = 1.96*np.sqrt(proba_negatif*(1-proba_negatif)/M)\n",
    "print(\"Probabilité que le prix prenne des valeurs négatives au cours des N premiers sauts pour m=3: {}+/- {}\".format(np.mean(proba_negatif),R_IC))"
   ]
  },
  {
   "cell_type": "markdown",
   "metadata": {
    "colab_type": "text",
    "id": "ybEtMP2QcNsp"
   },
   "source": [
    "#### Méthode 2 - Mutation/Sélection\n"
   ]
  },
  {
   "cell_type": "code",
   "execution_count": 0,
   "metadata": {
    "colab": {},
    "colab_type": "code",
    "id": "RpIrhuOyq6s_"
   },
   "outputs": [],
   "source": [
    "def part_interaction(N,saut,P0,M,alpha,mu):\n",
    "    #mu: paramètre des poids G_p\n",
    "    # Tirages de M x N v.a. suivant la loi \"saut\" et de MxN v.a. delta_n représentant le changement de signe du saut par rapport au signe du saut précédent\n",
    "    # seront utilisees pour construire les chaînes de Markov\n",
    "    xi= saut(M, N)   #N: horizon temporel (nombre de sauts)\n",
    "    delta = -1+2*np.random.binomial(1,(1+alpha)/2,size=(M,N-1))\n",
    "\n",
    "    ###############################################################################\n",
    "    ## En ponderant les trajectoires hautes : Estimation via G(X)=e^{alpha X_p}\n",
    "    ###############################################################################\n",
    "\n",
    "    # P stocke TOUTES LES VALEURS pour chacune des M chaines, dans l'optique du calcul de G_p \n",
    "    # J_hat stocke la dernière valeur du signe de saut (saut vers le bas ou vers le haut) pour chacune des M chaînes\n",
    "    P = np.zeros((M,N))\n",
    "\n",
    "    J_hat = -1+2*np.random.binomial(1,0.5,size=M) #le premier saut est vers le bas ou vers le haut avec la même probabilité\n",
    "\n",
    "    # On initialise avec la valeur du prix après le premier saut\n",
    "    P[:,0] = P0+J_hat*xi[:,0]\n",
    "        \n",
    "    facteurDroite = 1 #produit des moyennes des pondérations à chaque itération\n",
    "\n",
    "    for k in range(N-1):\n",
    "                \n",
    "        weights = np.exp(-mu*P[:,k])\n",
    "        \n",
    "        facteurDroite *= np.mean(weights)\n",
    "        \n",
    "        \n",
    "        weights = weights/np.sum(weights)\n",
    "\n",
    "        I = np.random.choice(np.arange(M),size=M,replace=True,p=weights)\n",
    "        \n",
    "        #sélection\n",
    "        P = P[I,:]\n",
    "        J_hat=J_hat[I]\n",
    "\n",
    "        #mutation\n",
    "\n",
    "        J_hat=J_hat*delta[:,k]\n",
    "        P[:,k+1] = P[:,k] +xi[:,k+1]*J_hat\n",
    "\n",
    "    #px_final_moyen=np.mean(P[:,-1]) #sert pour ajuster mu en essayant d'obtenir un prix final proche de 0\n",
    "    #print(px_final_moyen)\n",
    "    tabFacteursGauche = np.exp(mu*np.sum(P[:,:-1],axis=1)) #tableau des 1/(\\prod_{k=0}^{N-2} G_k)\n",
    "    proba_negatif = np.sum(tabFacteursGauche[np.min(P,axis=1)<0])/M * facteurDroite\n",
    "    return proba_negatif"
   ]
  },
  {
   "cell_type": "code",
   "execution_count": 0,
   "metadata": {
    "colab": {
     "base_uri": "https://localhost:8080/",
     "height": 282
    },
    "colab_type": "code",
    "id": "gBHW_amucV9-",
    "outputId": "82f6a031-ef4d-45d9-e323-db54c256b9d4"
   },
   "outputs": [
    {
     "data": {
      "text/plain": [
       "<matplotlib.legend.Legend at 0x7f62448949e8>"
      ]
     },
     "execution_count": 4,
     "metadata": {
      "tags": []
     },
     "output_type": "execute_result"
    },
    {
     "data": {
      "image/png": "[encoded data removed]",
      "text/plain": [
       "<Figure size 432x288 with 1 Axes>"
      ]
     },
     "metadata": {
      "needs_background": "light",
      "tags": []
     },
     "output_type": "display_data"
    }
   ],
   "source": [
    "#Optimisation de mu \n",
    "\n",
    "M= int(1e4)\n",
    "P0= 35\n",
    "N=100\n",
    "n=10\n",
    "liste_mu = np.linspace(0.001,0.017,24)\n",
    "estimateurs = np.zeros((len(liste_mu),n))\n",
    "\n",
    "for i in range(len(liste_mu)):\n",
    "    for j in range(n):\n",
    "        estimateurs[i,j]=part_interaction(N,saut_2_vect,P0,M,alpha,liste_mu[i])\n",
    "\n",
    "plt.plot( liste_mu,np.std(estimateurs,axis=1)/np.mean(estimateurs,axis=1),'r-o',label=\"Ecart-type/valeur moyenne\")\n",
    "\n",
    "plt.grid()\n",
    "plt.legend()"
   ]
  },
  {
   "cell_type": "code",
   "execution_count": 0,
   "metadata": {
    "colab": {
     "base_uri": "https://localhost:8080/"
    },
    "colab_type": "code",
    "id": "W8BBov_tvA9y",
    "outputId": "1056b247-8d81-47ef-f9c8-ffaae18844f4"
   },
   "outputs": [
    {
     "name": "stdout",
     "output_type": "stream",
     "text": [
      "Probabilité que le prix prenne des valeurs négatives au cours des N premiers sauts : 4.3861299566524465e-05+/- 4.8507714448079495e-06\n"
     ]
    }
   ],
   "source": [
    "#m=3\n",
    "\n",
    "M= int(1e5)\n",
    "P0= 35\n",
    "N=100\n",
    "mu = 0.008 #ajusté empiriquement\n",
    "L= 10\n",
    "\n",
    "#proba_negatif = Q3_proba_negatif(N,saut_2,P0,M,alpha) #pour utiliser la méthode naïve\n",
    "#proba_negatif = part_interaction(N,saut_2_vect,P0,M,alpha,mu) #pour utiliser la méthode mutation/selection\n",
    "\n",
    "probas_negatif = np.zeros(L)\n",
    "for l in range(L):\n",
    "    probas_negatif[l] = part_interaction(N,saut_2_vect,P0,M,alpha,mu)\n",
    "R_IC= np.sqrt(np.var(probas_negatif)/L)*sps.t.ppf(0.975,df=L-1) #quantile de la loi de Student \n",
    "print(\"Probabilité que le prix prenne des valeurs négatives au cours des N premiers sauts : {}+/- {}\".format(np.mean(probas_negatif),R_IC))\n",
    "\n",
    "#Pour P0=10 et m=3 et M=10^5 et N=100, donne 0.2262 avec MC naif\n",
    "#Donne 0.2331 avec méthode particules en interaction (mu=0.03/P0)\n",
    "#pour P0=35, particules en interaction donne 5.027933935719282e-05"
   ]
  },
  {
   "cell_type": "markdown",
   "metadata": {
    "colab_type": "text",
    "id": "qX-7JxLly4Mp"
   },
   "source": [
    "### Question 3.2 : Quantiles du prix final après N variations"
   ]
  },
  {
   "cell_type": "code",
   "execution_count": 0,
   "metadata": {
    "colab": {},
    "colab_type": "code",
    "id": "Y0mouUBLy3Re"
   },
   "outputs": [],
   "source": [
    "#Quantile simple \n",
    "\n",
    "\n",
    "def Quantile_naif_2(seuil,N,saut,P0,M,alpha):\n",
    "\n",
    "    liste_P_t = np.zeros(M)\n",
    "    for i in range(M):\n",
    "        signes = -1+2*np.random.binomial(1,(1+alpha)/2,size=N)\n",
    "        signes[0] = -1+np.random.binomial(1,0.5)*2\n",
    "        signes = np.cumprod(signes)\n",
    "        increments = saut(N)\n",
    "        \n",
    "        liste_P_t[i] = np.sum(increments*signes)+P0 \n",
    "    liste_P_t = np.sort(liste_P_t)\n",
    "    return liste_P_t[int(np.ceil(M*seuil))-1],liste_P_t[int(np.ceil(M*(1-seuil)))-1]"
   ]
  },
  {
   "cell_type": "code",
   "execution_count": 0,
   "metadata": {
    "colab": {
     "base_uri": "https://localhost:8080/",
     "height": 34
    },
    "colab_type": "code",
    "id": "tj3zuJqqM0bb",
    "outputId": "517c461a-3aad-4a33-d83a-7d2fb5b63fe3"
   },
   "outputs": [
    {
     "name": "stdout",
     "output_type": "stream",
     "text": [
      "Quantiles gauche et droit de niveau 1e-05 : (-3.1333333333333333 +/ 0.4156209, 71.43333333333334 +/ 0.2969599050127562)\n"
     ]
    }
   ],
   "source": [
    "seuil = 1e-5\n",
    "M=int(1e5)\n",
    "nbIter = 30\n",
    "quantiles = np.zeros((nbIter,2))\n",
    "\n",
    "for i in range(nbIter):\n",
    "    quantiles[i][0],quantiles[i][1] = Quantile_naif_2(seuil,N,saut_2,P0,M,alpha)\n",
    "\n",
    "estimateur_quantiles = np.mean(quantiles,axis=0)\n",
    "erreur = np.std(quantiles,axis=0)/np.sqrt(nbIter)\n",
    "print(\"Quantiles gauche et droit de niveau {} : ({} +/ {:08.7f}, {} +/ {})\".format(seuil,estimateur_quantiles[0],erreur[0],estimateur_quantiles[1],erreur[1]))"
   ]
  },
  {
   "cell_type": "markdown",
   "metadata": {
    "colab_type": "text",
    "id": "YZHqb-MQ3cKz"
   },
   "source": [
    "## __Question 4 : Limite macroscopique__"
   ]
  },
  {
   "cell_type": "code",
   "execution_count": 0,
   "metadata": {
    "colab": {},
    "colab_type": "code",
    "id": "jltbdGRYqO4B"
   },
   "outputs": [],
   "source": [
    "T = 8*250*60*60\n",
    "lamb = 1/300\n",
    "P0=1000\n",
    "alpha=-0.875\n",
    "\n",
    "saut_1 = lambda x: np.ones(shape=x) #correspond à m=1\n",
    "saut_2 = lambda x: np.random.choice([1, 2, 3], size=x, replace=True, p=np.array([1/2, 1/3, 1/6])) #correspond à m=3\n",
    "\n",
    "#Pour mutation/sélection\n",
    "saut_1_vect = lambda x,y : np.ones(shape=(x,y))\n",
    "saut_2_vect = lambda x,y: np.random.choice([1, 2, 3], size=(x,y), replace=True, p=np.array([1/2, 1/3, 1/6])) "
   ]
  },
  {
   "cell_type": "markdown",
   "metadata": {
    "colab_type": "text",
    "id": "txm8KiABlJFG"
   },
   "source": [
    "### Simulation de trajectoire"
   ]
  },
  {
   "cell_type": "code",
   "execution_count": 0,
   "metadata": {
    "colab": {
     "base_uri": "https://localhost:8080/",
     "height": 366
    },
    "colab_type": "code",
    "id": "nyU1AXj8sVTU",
    "outputId": "2107c144-31a4-405f-b517-49e7fdb70326"
   },
   "outputs": [
    {
     "data": {
      "text/plain": [
       "Text(0.5, 1.0, 'm=3')"
      ]
     },
     "execution_count": 5,
     "metadata": {
      "tags": []
     },
     "output_type": "execute_result"
    },
    {
     "data": {
      "image/png": "[encoded data removed]",
      "text/plain": [
       "<Figure size 720x360 with 2 Axes>"
      ]
     },
     "metadata": {
      "needs_background": "light",
      "tags": []
     },
     "output_type": "display_data"
    }
   ],
   "source": [
    "#Comme dans la question 3 mais à horizon temporel fixé au lieu d'être à nombre de sauts N fixé\n",
    "\n",
    "def sauts(lamb,saut,P0,alpha,T):\n",
    "    N0 = np.random.poisson(T*lamb) \n",
    "    increments = saut(N0)\n",
    "    signes = -1+2*np.random.binomial(1,(1+alpha)/2,size=N0)\n",
    "    signes[0] = -1+np.random.binomial(1,0.5)*2\n",
    "    signes = np.cumprod(signes)\n",
    "    prix = P0 +np.cumsum(increments*signes)\n",
    "    t=np.random.uniform(low=0,high=T,size=N0+1)\n",
    "    t[0]=0\n",
    "    t.sort()\n",
    "    t = np.concatenate((t,t[-1:]))\n",
    "    return t,np.concatenate((np.concatenate((np.array([P0]),prix)),prix[-1:]))\n",
    "\n",
    "\n",
    "plt.figure(figsize=(10, 5))\n",
    "plt.subplot(1, 2, 1)\n",
    "\n",
    "t1,prix1= sauts(lamb,saut_1,P0,alpha,T)\n",
    "plt.step(t1, prix1, where=\"post\", linewidth=2.0)\n",
    "\n",
    "plt.title(\"m=1\", fontsize=12)\n",
    "\n",
    "plt.subplot(1, 2, 2)\n",
    "t2,prix2= sauts(lamb,saut_2,P0,alpha,T)\n",
    "plt.step(t2, prix2, where=\"post\", linewidth=2.0)\n",
    "\n",
    "plt.title(\"m=3\", fontsize=12)"
   ]
  },
  {
   "cell_type": "code",
   "execution_count": 0,
   "metadata": {
    "colab": {
     "base_uri": "https://localhost:8080/",
     "height": 311
    },
    "colab_type": "code",
    "id": "FJi0tRT4Yjji",
    "outputId": "e79c5177-2fb9-409f-d38b-45a538393076"
   },
   "outputs": [
    {
     "data": {
      "text/plain": [
       "Text(0.5, 1.0, 'm=3')"
      ]
     },
     "execution_count": 4,
     "metadata": {
      "tags": []
     },
     "output_type": "execute_result"
    },
    {
     "data": {
      "image/png": "[encoded data removed]",
      "text/plain": [
       "<Figure size 720x288 with 2 Axes>"
      ]
     },
     "metadata": {
      "needs_background": "light",
      "tags": []
     },
     "output_type": "display_data"
    }
   ],
   "source": [
    "#Limite macroscopique\n",
    "\n",
    "def prix(N,T,lamb,alpha,m):\n",
    "    sigma_inf_carre = lamb\n",
    "    if m==1:\n",
    "        sigma_inf_carre *=(1+alpha)/(1-alpha)\n",
    "    else:\n",
    "        sigma_inf_carre *= (5./9.+25./9.*(1+alpha)/(1-alpha))\n",
    "\n",
    "    mvt_bro = np.random.normal(loc=0,scale=1,size=N)\n",
    "\n",
    "    P_discret = P0+ np.sqrt(sigma_inf_carre*T/N)*np.cumsum(mvt_bro)\n",
    "\n",
    "    return P_discret\n",
    "\n",
    "N=int(1e5)\n",
    "\n",
    "\n",
    "t = np.linspace(0,T,N+1)\n",
    "P1 = np.concatenate((np.array([P0]),prix(N,T,lamb,alpha,1))) #m=1\n",
    "P3 = np.concatenate((np.array([P0]),prix(N,T,lamb,alpha,3))) #m=3\n",
    "\n",
    "\n",
    "\n",
    "plt.figure(figsize=(10, 4))\n",
    "plt.subplot(1, 2, 1)\n",
    "plt.plot(t,P1)\n",
    "plt.title(\"m=1\", fontsize=12)\n",
    "\n",
    "plt.subplot(1, 2, 2)\n",
    "plt.plot(t,P3,label=\"m=3\")\n",
    "plt.title(\"m=3\", fontsize=12)\n"
   ]
  },
  {
   "cell_type": "markdown",
   "metadata": {
    "colab_type": "text",
    "id": "TrFPMLPFxN5M"
   },
   "source": [
    "### Question 4.1 : Estimation de la probabilité d'un prix négatif"
   ]
  },
  {
   "cell_type": "markdown",
   "metadata": {
    "colab_type": "text",
    "id": "x43KQGfhjgTx"
   },
   "source": [
    "####Méthode 1 - Monte-Carlo sur le prix \"non macroscopique\" (identique à la méthode de Monte-Carlo de la question Q3.1 mais à horizon temporel T fixé au lieu d'être à nombre de sauts N fixé)\n"
   ]
  },
  {
   "cell_type": "code",
   "execution_count": 0,
   "metadata": {
    "colab": {},
    "colab_type": "code",
    "id": "DdgcsIGKEHgf"
   },
   "outputs": [],
   "source": [
    "def Q3_proba_negatif(lamb,T,saut,P0,M,alpha): \n",
    "    liste_px_inf_0 = np.zeros(M)\n",
    "    for i in range(M):\n",
    "        N = np.random.poisson(lamb*T)\n",
    "        increments = saut(N)\n",
    "        signes = -1+2*np.random.binomial(1,(1+alpha)/2,size=N)\n",
    "        signes[0] = -1+np.random.binomial(1,0.5)*2\n",
    "        signes = np.cumprod(signes)\n",
    "        prix = P0 +np.cumsum(increments*signes)\n",
    "        \n",
    "        if np.min(prix)<0:\n",
    "            liste_px_inf_0[i] = 1\n",
    "\n",
    "    return np.mean(liste_px_inf_0)"
   ]
  },
  {
   "cell_type": "code",
   "execution_count": 0,
   "metadata": {
    "colab": {
     "base_uri": "https://localhost:8080/",
     "height": 68
    },
    "colab_type": "code",
    "id": "jgmBSjLsESmc",
    "outputId": "bca170e3-7676-4265-dc94-47ffbea9d85d"
   },
   "outputs": [
    {
     "name": "stdout",
     "output_type": "stream",
     "text": [
      "0.0\n",
      "CPU times: user 12.5 s, sys: 0 ns, total: 12.5 s\n",
      "Wall time: 12.5 s\n"
     ]
    }
   ],
   "source": [
    "%%time\n",
    "\n",
    "M = int(1e4)\n",
    "\n",
    "\n",
    "proba_negatif = Q3_proba_negatif(lamb,T,saut_2,P0,M,alpha)\n",
    "print(proba_negatif)"
   ]
  },
  {
   "cell_type": "markdown",
   "metadata": {
    "colab_type": "text",
    "id": "hRh1LydljnRW"
   },
   "source": [
    "####Méthode 2: Monte-Carlo sur la simulation par limite brownienne\n"
   ]
  },
  {
   "cell_type": "code",
   "execution_count": 0,
   "metadata": {
    "colab": {},
    "colab_type": "code",
    "id": "6kBDKbR2vy6R"
   },
   "outputs": [],
   "source": [
    "def brownien(N,T,M,lamb,alpha,m):\n",
    "    sigma_inf_carre = lamb\n",
    "    if m==1:\n",
    "        sigma_inf_carre *=(1+alpha)/(1-alpha)\n",
    "    else:\n",
    "        sigma_inf_carre *= (5./9.+25./9.*(1+alpha)/(1-alpha))\n",
    "\n",
    "    mvt_bro = np.random.normal(0,1,size=(M,N))\n",
    "\n",
    "    P_discret = P0+ np.sqrt(sigma_inf_carre*T/N)*np.cumsum(mvt_bro,axis=1)\n",
    "    negatif = P_discret >=0 #matrix of booleans: True if and only if the price is positive\n",
    "    exists_negatif = 1-np.prod(negatif,axis=1) #exists_negatif[i]=1 if and only if one of the N prices is negative for sample i (with 1 <=i <=M)\n",
    "\n",
    "    return np.mean(exists_negatif)\n"
   ]
  },
  {
   "cell_type": "code",
   "execution_count": 0,
   "metadata": {
    "colab": {
     "base_uri": "https://localhost:8080/",
     "height": 34
    },
    "colab_type": "code",
    "id": "1jAtP9sPxVyh",
    "outputId": "5460577f-8413-45ac-8b94-6e77814ec48e"
   },
   "outputs": [
    {
     "name": "stdout",
     "output_type": "stream",
     "text": [
      "0.0\n"
     ]
    }
   ],
   "source": [
    "M = int(1e6)\n",
    "\n",
    "m=1\n",
    "\n",
    "N=int(1e3)\n",
    "\n",
    "proba_negatif=brownien(N,T,M,lamb,alpha,m)\n",
    "print(proba_negatif)\n"
   ]
  },
  {
   "cell_type": "markdown",
   "metadata": {
    "colab_type": "text",
    "id": "M3auN8HZ1sez"
   },
   "source": [
    "####Méthode 3 - Sélection/Mutation sur la simulation par limite brownienne\n"
   ]
  },
  {
   "cell_type": "code",
   "execution_count": 0,
   "metadata": {
    "colab": {},
    "colab_type": "code",
    "id": "56WdKO4H2SJe"
   },
   "outputs": [],
   "source": [
    "def part_interaction(N,saut,P0,M,alpha,mu,m):\n",
    "\n",
    "    sigma_inf_carre = lamb\n",
    "    if m==1:\n",
    "        sigma_inf_carre *=(1+alpha)/(1-alpha)\n",
    "    else:\n",
    "        sigma_inf_carre *= (5./9.+25./9.*(1+alpha)/(1-alpha))\n",
    "    #mu: paramètre des poids G_p\n",
    "    # Tirages de M x N v.a. suivant la loi normale \n",
    "    xi= np.random.normal(0,1,size=(M, N))   #N: horizon temporel (nombre de sauts)\n",
    "\n",
    "    ###############################################################################\n",
    "    ## En ponderant les trajectoires basses : Estimation via G(X)=e^{alpha X_k}\n",
    "    ###############################################################################\n",
    "\n",
    "    # X stocke TOUTES LES VALEURS pour chacune des M chaines, dans l'optique du calcul de G_p \n",
    "    Y = np.zeros((M,N))\n",
    "\n",
    "\n",
    "    # On initialise avec P0*sqrt(N/T/sigma_inf_carre) + premier incrément gaussien\n",
    "    Y[:,0] = P0*np.sqrt(N/T/sigma_inf_carre) + xi[:,0]\n",
    "        \n",
    "    facteurDroite = 1 #produit des moyennes des pondérations à chaque itération\n",
    "\n",
    "    for k in range(N-1):\n",
    "                \n",
    "        weights = np.exp(-mu*Y[:,k])\n",
    "        \n",
    "        facteurDroite *= np.mean(weights)\n",
    "        \n",
    "        \n",
    "        weights = weights/np.sum(weights)\n",
    "\n",
    "        I = np.random.choice(np.arange(M),size=M,replace=True,p=weights)\n",
    "        \n",
    "        #sélection\n",
    "        Y = Y[I,:]\n",
    "\n",
    "        #mutation\n",
    "\n",
    "        Y[:,k+1] = Y[:,k] +xi[:,k+1]\n",
    "\n",
    "    #final_moyen=np.mean(Y[:,-1]) #sert pour ajuster mu en essayant d'obtenir un Y final proche de 0\n",
    "    #print(final_moyen)\n",
    "    tabFacteursGauche = np.exp(mu*np.sum(Y[:,:-1],axis=1)) #tableau des 1/(\\prod_{k=0}^{N-2} G_k)\n",
    "    proba_negatif = np.sum(tabFacteursGauche[np.min(Y,axis=1)<0])/M * facteurDroite\n",
    "    return proba_negatif"
   ]
  },
  {
   "cell_type": "code",
   "execution_count": 0,
   "metadata": {
    "colab": {
     "base_uri": "https://localhost:8080/",
     "height": 34
    },
    "colab_type": "code",
    "id": "F3H1IQmB3_O2",
    "outputId": "33a2cbbb-197f-4411-8a62-a331d5c2fdb9"
   },
   "outputs": [
    {
     "name": "stdout",
     "output_type": "stream",
     "text": [
      "Probabilité que le prix prenne des valeurs négatives au cours des N premiers sauts : 2.8755523968515452e-15+/- 1.2304271976127318e-15\n"
     ]
    }
   ],
   "source": [
    "#m=3\n",
    "\n",
    "M= int(1e5)\n",
    "N=100\n",
    "mu = 0.03\n",
    "\n",
    "\n",
    "#proba_negatif = part_interaction(N,saut_2_vect,P0,M,alpha,mu,3) \n",
    "\n",
    "L= 20\n",
    "probas_negatif = np.zeros(L)\n",
    "for l in range(L):\n",
    "    probas_negatif[l] = part_interaction(N,saut_2_vect,P0,M,alpha,mu,3)\n",
    "R_IC= np.sqrt(np.var(probas_negatif)/L)*sps.t.ppf(0.975,df=L-1) #quantile de la loi de Student \n",
    "print(\"Probabilité que le prix prenne des valeurs négatives au cours des N premiers sauts : {}+/- {}\".format(np.mean(probas_negatif),R_IC))\n",
    "\n",
    "\n",
    "#1.0660719478996492e-14+/- 8.568480036702792e-15 pour M=10^4 mu = 0.03 N=100 L=50"
   ]
  },
  {
   "cell_type": "markdown",
   "metadata": {
    "colab_type": "text",
    "id": "405QdanXOsMw"
   },
   "source": [
    "### Question 4.2 : Estimation de quantiles"
   ]
  },
  {
   "cell_type": "code",
   "execution_count": 0,
   "metadata": {
    "colab": {
     "base_uri": "https://localhost:8080/",
     "height": 51
    },
    "colab_type": "code",
    "id": "y9693Jp7WXyF",
    "outputId": "abd458bb-5e63-40a9-cee9-9ad4366fde90"
   },
   "outputs": [
    {
     "name": "stdout",
     "output_type": "stream",
     "text": [
      "Quantiles de niveau 1e-06 pour m=1 : (-2607.5990078592777, 4607.5990078548675)\n",
      "Quantiles de niveau 1e-06 pour m=3 : (-5586.5434190361975, 7586.543419028146)\n"
     ]
    }
   ],
   "source": [
    "#Quantiles théoriques\n",
    "\n",
    "alpha = 1e-6\n",
    "\n",
    "#m=1\n",
    "sigma_inf =np.sqrt(lamb * (1+alpha)/(1-alpha))\n",
    "quantileGauche =P0+ np.sqrt(T)*sigma_inf*sps.norm.ppf(alpha)\n",
    "quantileDroit = P0+np.sqrt(T)*sigma_inf*sps.norm.ppf(1-alpha)\n",
    "print(\"Quantiles de niveau {} pour m=1 : ({}, {})\".format(alpha,quantileGauche,quantileDroit))\n",
    "\n",
    "#m=3\n",
    "sigma_inf =np.sqrt(lamb * (5./9.+25./9.*(1+alpha)/(1-alpha)))\n",
    "quantileGauche = P0+np.sqrt(T)*sigma_inf*sps.norm.ppf(alpha)\n",
    "quantileDroit = P0+np.sqrt(T)*sigma_inf*sps.norm.ppf(1-alpha)\n",
    "print(\"Quantiles de niveau {} pour m=3 : ({}, {})\".format(alpha,quantileGauche,quantileDroit))"
   ]
  }
 ],
 "metadata": {
  "colab": {
   "collapsed_sections": [
    "5PkrjfsvMFhm",
    "M7EYCUZUHf40",
    "6cFQwg1vMRYS",
    "WAUIiMaGCld9",
    "DqiX05Q8C1El",
    "pT72hdIQHtIw",
    "K_5aVf1mmsOG",
    "DkAtOAu2VDLl",
    "YvaXVUWmVJLg",
    "H_AHvugqY0Nf",
    "B9-ak_V-wHh4",
    "qX-7JxLly4Mp",
    "YZHqb-MQ3cKz",
    "txm8KiABlJFG",
    "hRh1LydljnRW"
   ],
   "machine_shape": "hm",
   "name": "ProjetMicrostructureBerangerChen.ipynb",
   "provenance": []
  },
  "kernelspec": {
   "display_name": "Python 3",
   "language": "python",
   "name": "python3"
  },
  "language_info": {
   "codemirror_mode": {
    "name": "ipython",
    "version": 3
   },
   "file_extension": ".py",
   "mimetype": "text/x-python",
   "name": "python",
   "nbconvert_exporter": "python",
   "pygments_lexer": "ipython3",
   "version": "3.7.3"
  }
 },
 "nbformat": 4,
 "nbformat_minor": 1
}
